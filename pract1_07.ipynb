{
 "cells": [
  {
   "cell_type": "code",
   "execution_count": 15,
   "metadata": {},
   "outputs": [],
   "source": [
    "import pandas as pd\n",
    "import numpy as np\n",
    "import matplotlib.pyplot as plt\n",
    "from sklearn.linear_model import LinearRegression\n",
    "from sklearn.preprocessing import LabelEncoder"
   ]
  },
  {
   "cell_type": "markdown",
   "metadata": {},
   "source": [
    "## IMPORTING DATASET"
   ]
  },
  {
   "cell_type": "code",
   "execution_count": 16,
   "metadata": {},
   "outputs": [
    {
     "data": {
      "text/html": [
       "<div>\n",
       "<style scoped>\n",
       "    .dataframe tbody tr th:only-of-type {\n",
       "        vertical-align: middle;\n",
       "    }\n",
       "\n",
       "    .dataframe tbody tr th {\n",
       "        vertical-align: top;\n",
       "    }\n",
       "\n",
       "    .dataframe thead th {\n",
       "        text-align: right;\n",
       "    }\n",
       "</style>\n",
       "<table border=\"1\" class=\"dataframe\">\n",
       "  <thead>\n",
       "    <tr style=\"text-align: right;\">\n",
       "      <th></th>\n",
       "      <th>brand</th>\n",
       "      <th>price</th>\n",
       "      <th>weight</th>\n",
       "      <th>crust</th>\n",
       "      <th>cheese</th>\n",
       "      <th>size</th>\n",
       "      <th>toppings</th>\n",
       "      <th>spicy</th>\n",
       "      <th>ranking</th>\n",
       "    </tr>\n",
       "  </thead>\n",
       "  <tbody>\n",
       "    <tr>\n",
       "      <th>0</th>\n",
       "      <td>Dominos</td>\n",
       "      <td>$1.00</td>\n",
       "      <td>100g</td>\n",
       "      <td>thin</td>\n",
       "      <td>Mozzarella</td>\n",
       "      <td>regular</td>\n",
       "      <td>paneer</td>\n",
       "      <td>normal</td>\n",
       "      <td>11</td>\n",
       "    </tr>\n",
       "    <tr>\n",
       "      <th>1</th>\n",
       "      <td>Pizza hut</td>\n",
       "      <td>$3.00</td>\n",
       "      <td>100g</td>\n",
       "      <td>thin</td>\n",
       "      <td>Cheddar</td>\n",
       "      <td>large</td>\n",
       "      <td>mushroom</td>\n",
       "      <td>normal</td>\n",
       "      <td>12</td>\n",
       "    </tr>\n",
       "    <tr>\n",
       "      <th>2</th>\n",
       "      <td>Onesta</td>\n",
       "      <td>$4.00</td>\n",
       "      <td>200g</td>\n",
       "      <td>thin</td>\n",
       "      <td>Mozzarella</td>\n",
       "      <td>regular</td>\n",
       "      <td>mushroom</td>\n",
       "      <td>normal</td>\n",
       "      <td>9</td>\n",
       "    </tr>\n",
       "    <tr>\n",
       "      <th>3</th>\n",
       "      <td>Pizza hut</td>\n",
       "      <td>$4.00</td>\n",
       "      <td>400g</td>\n",
       "      <td>thick</td>\n",
       "      <td>Cheddar</td>\n",
       "      <td>regular</td>\n",
       "      <td>paneer</td>\n",
       "      <td>normal</td>\n",
       "      <td>2</td>\n",
       "    </tr>\n",
       "    <tr>\n",
       "      <th>4</th>\n",
       "      <td>Pizza hut</td>\n",
       "      <td>$2.00</td>\n",
       "      <td>300g</td>\n",
       "      <td>thin</td>\n",
       "      <td>Mozzarella</td>\n",
       "      <td>regular</td>\n",
       "      <td>mushroom</td>\n",
       "      <td>extra</td>\n",
       "      <td>8</td>\n",
       "    </tr>\n",
       "    <tr>\n",
       "      <th>5</th>\n",
       "      <td>Pizza hut</td>\n",
       "      <td>$1.00</td>\n",
       "      <td>200g</td>\n",
       "      <td>thick</td>\n",
       "      <td>Mozzarella</td>\n",
       "      <td>large</td>\n",
       "      <td>paneer</td>\n",
       "      <td>extra</td>\n",
       "      <td>13</td>\n",
       "    </tr>\n",
       "    <tr>\n",
       "      <th>6</th>\n",
       "      <td>Onesta</td>\n",
       "      <td>$3.00</td>\n",
       "      <td>300g</td>\n",
       "      <td>thick</td>\n",
       "      <td>Mozzarella</td>\n",
       "      <td>large</td>\n",
       "      <td>paneer</td>\n",
       "      <td>normal</td>\n",
       "      <td>7</td>\n",
       "    </tr>\n",
       "    <tr>\n",
       "      <th>7</th>\n",
       "      <td>Dominos</td>\n",
       "      <td>$4.00</td>\n",
       "      <td>300g</td>\n",
       "      <td>thin</td>\n",
       "      <td>Cheddar</td>\n",
       "      <td>large</td>\n",
       "      <td>paneer</td>\n",
       "      <td>extra</td>\n",
       "      <td>4</td>\n",
       "    </tr>\n",
       "    <tr>\n",
       "      <th>8</th>\n",
       "      <td>Dominos</td>\n",
       "      <td>$2.00</td>\n",
       "      <td>400g</td>\n",
       "      <td>thick</td>\n",
       "      <td>Mozzarella</td>\n",
       "      <td>large</td>\n",
       "      <td>mushroom</td>\n",
       "      <td>normal</td>\n",
       "      <td>5</td>\n",
       "    </tr>\n",
       "    <tr>\n",
       "      <th>9</th>\n",
       "      <td>Oven Story</td>\n",
       "      <td>$4.00</td>\n",
       "      <td>100g</td>\n",
       "      <td>thick</td>\n",
       "      <td>Mozzarella</td>\n",
       "      <td>large</td>\n",
       "      <td>mushroom</td>\n",
       "      <td>extra</td>\n",
       "      <td>16</td>\n",
       "    </tr>\n",
       "    <tr>\n",
       "      <th>10</th>\n",
       "      <td>Onesta</td>\n",
       "      <td>$1.00</td>\n",
       "      <td>400g</td>\n",
       "      <td>thin</td>\n",
       "      <td>Cheddar</td>\n",
       "      <td>large</td>\n",
       "      <td>mushroom</td>\n",
       "      <td>extra</td>\n",
       "      <td>3</td>\n",
       "    </tr>\n",
       "    <tr>\n",
       "      <th>11</th>\n",
       "      <td>Oven Story</td>\n",
       "      <td>$2.00</td>\n",
       "      <td>200g</td>\n",
       "      <td>thin</td>\n",
       "      <td>Cheddar</td>\n",
       "      <td>large</td>\n",
       "      <td>paneer</td>\n",
       "      <td>normal</td>\n",
       "      <td>6</td>\n",
       "    </tr>\n",
       "    <tr>\n",
       "      <th>12</th>\n",
       "      <td>Oven Story</td>\n",
       "      <td>$1.00</td>\n",
       "      <td>300g</td>\n",
       "      <td>thick</td>\n",
       "      <td>Cheddar</td>\n",
       "      <td>regular</td>\n",
       "      <td>mushroom</td>\n",
       "      <td>normal</td>\n",
       "      <td>10</td>\n",
       "    </tr>\n",
       "    <tr>\n",
       "      <th>13</th>\n",
       "      <td>Onesta</td>\n",
       "      <td>$2.00</td>\n",
       "      <td>100g</td>\n",
       "      <td>thick</td>\n",
       "      <td>Cheddar</td>\n",
       "      <td>regular</td>\n",
       "      <td>paneer</td>\n",
       "      <td>extra</td>\n",
       "      <td>15</td>\n",
       "    </tr>\n",
       "    <tr>\n",
       "      <th>14</th>\n",
       "      <td>Oven Story</td>\n",
       "      <td>$3.00</td>\n",
       "      <td>400g</td>\n",
       "      <td>thin</td>\n",
       "      <td>Mozzarella</td>\n",
       "      <td>regular</td>\n",
       "      <td>paneer</td>\n",
       "      <td>extra</td>\n",
       "      <td>1</td>\n",
       "    </tr>\n",
       "    <tr>\n",
       "      <th>15</th>\n",
       "      <td>Dominos</td>\n",
       "      <td>$3.00</td>\n",
       "      <td>200g</td>\n",
       "      <td>thick</td>\n",
       "      <td>Cheddar</td>\n",
       "      <td>regular</td>\n",
       "      <td>mushroom</td>\n",
       "      <td>extra</td>\n",
       "      <td>14</td>\n",
       "    </tr>\n",
       "  </tbody>\n",
       "</table>\n",
       "</div>"
      ],
      "text/plain": [
       "         brand  price weight  crust      cheese     size  toppings   spicy  \\\n",
       "0      Dominos  $1.00   100g   thin  Mozzarella  regular    paneer  normal   \n",
       "1    Pizza hut  $3.00   100g   thin     Cheddar    large  mushroom  normal   \n",
       "2       Onesta  $4.00   200g   thin  Mozzarella  regular  mushroom  normal   \n",
       "3    Pizza hut  $4.00   400g  thick     Cheddar  regular    paneer  normal   \n",
       "4    Pizza hut  $2.00   300g   thin  Mozzarella  regular  mushroom   extra   \n",
       "5    Pizza hut  $1.00   200g  thick  Mozzarella    large    paneer   extra   \n",
       "6       Onesta  $3.00   300g  thick  Mozzarella    large    paneer  normal   \n",
       "7      Dominos  $4.00   300g   thin     Cheddar    large    paneer   extra   \n",
       "8      Dominos  $2.00   400g  thick  Mozzarella    large  mushroom  normal   \n",
       "9   Oven Story  $4.00   100g  thick  Mozzarella    large  mushroom   extra   \n",
       "10      Onesta  $1.00   400g   thin     Cheddar    large  mushroom   extra   \n",
       "11  Oven Story  $2.00   200g   thin     Cheddar    large    paneer  normal   \n",
       "12  Oven Story  $1.00   300g  thick     Cheddar  regular  mushroom  normal   \n",
       "13      Onesta  $2.00   100g  thick     Cheddar  regular    paneer   extra   \n",
       "14  Oven Story  $3.00   400g   thin  Mozzarella  regular    paneer   extra   \n",
       "15     Dominos  $3.00   200g  thick     Cheddar  regular  mushroom   extra   \n",
       "\n",
       "    ranking  \n",
       "0        11  \n",
       "1        12  \n",
       "2         9  \n",
       "3         2  \n",
       "4         8  \n",
       "5        13  \n",
       "6         7  \n",
       "7         4  \n",
       "8         5  \n",
       "9        16  \n",
       "10        3  \n",
       "11        6  \n",
       "12       10  \n",
       "13       15  \n",
       "14        1  \n",
       "15       14  "
      ]
     },
     "execution_count": 16,
     "metadata": {},
     "output_type": "execute_result"
    }
   ],
   "source": [
    "df=pd.read_csv(\"dataset_pizza_data.csv\")\n",
    "df"
   ]
  },
  {
   "cell_type": "code",
   "execution_count": 17,
   "metadata": {},
   "outputs": [
    {
     "data": {
      "text/plain": [
       "Index(['brand', 'price', 'weight', 'crust', 'cheese', 'size', 'toppings',\n",
       "       'spicy', 'ranking'],\n",
       "      dtype='object')"
      ]
     },
     "execution_count": 17,
     "metadata": {},
     "output_type": "execute_result"
    }
   ],
   "source": [
    "df.columns"
   ]
  },
  {
   "cell_type": "markdown",
   "metadata": {},
   "source": [
    "## CONVERTING CATEGORICAL VARIABLES INTO NUMERICAL FORM"
   ]
  },
  {
   "cell_type": "code",
   "execution_count": 18,
   "metadata": {},
   "outputs": [],
   "source": [
    "df['price'] = df['price'].replace('[\\$,]', '', regex=True).astype(float)\n"
   ]
  },
  {
   "cell_type": "code",
   "execution_count": 19,
   "metadata": {},
   "outputs": [],
   "source": [
    "label_encoders = {}\n",
    "for col in ['brand', 'weight', 'crust', 'cheese', 'size', 'toppings', 'spicy']:\n",
    "    label_encoders[col] = LabelEncoder()\n",
    "    df[col] = label_encoders[col].fit_transform(df[col])\n"
   ]
  },
  {
   "cell_type": "markdown",
   "metadata": {},
   "source": [
    "## INDEPENDENT AND DEPENDENT VARIABLE"
   ]
  },
  {
   "cell_type": "code",
   "execution_count": 20,
   "metadata": {},
   "outputs": [],
   "source": [
    "\n",
    "X = df.drop(columns=['ranking'])\n",
    "y = df['ranking']\n",
    "\n"
   ]
  },
  {
   "cell_type": "markdown",
   "metadata": {},
   "source": [
    "## Perform regression\n"
   ]
  },
  {
   "cell_type": "code",
   "execution_count": 21,
   "metadata": {},
   "outputs": [
    {
     "data": {
      "text/html": [
       "<style>#sk-container-id-2 {color: black;background-color: white;}#sk-container-id-2 pre{padding: 0;}#sk-container-id-2 div.sk-toggleable {background-color: white;}#sk-container-id-2 label.sk-toggleable__label {cursor: pointer;display: block;width: 100%;margin-bottom: 0;padding: 0.3em;box-sizing: border-box;text-align: center;}#sk-container-id-2 label.sk-toggleable__label-arrow:before {content: \"▸\";float: left;margin-right: 0.25em;color: #696969;}#sk-container-id-2 label.sk-toggleable__label-arrow:hover:before {color: black;}#sk-container-id-2 div.sk-estimator:hover label.sk-toggleable__label-arrow:before {color: black;}#sk-container-id-2 div.sk-toggleable__content {max-height: 0;max-width: 0;overflow: hidden;text-align: left;background-color: #f0f8ff;}#sk-container-id-2 div.sk-toggleable__content pre {margin: 0.2em;color: black;border-radius: 0.25em;background-color: #f0f8ff;}#sk-container-id-2 input.sk-toggleable__control:checked~div.sk-toggleable__content {max-height: 200px;max-width: 100%;overflow: auto;}#sk-container-id-2 input.sk-toggleable__control:checked~label.sk-toggleable__label-arrow:before {content: \"▾\";}#sk-container-id-2 div.sk-estimator input.sk-toggleable__control:checked~label.sk-toggleable__label {background-color: #d4ebff;}#sk-container-id-2 div.sk-label input.sk-toggleable__control:checked~label.sk-toggleable__label {background-color: #d4ebff;}#sk-container-id-2 input.sk-hidden--visually {border: 0;clip: rect(1px 1px 1px 1px);clip: rect(1px, 1px, 1px, 1px);height: 1px;margin: -1px;overflow: hidden;padding: 0;position: absolute;width: 1px;}#sk-container-id-2 div.sk-estimator {font-family: monospace;background-color: #f0f8ff;border: 1px dotted black;border-radius: 0.25em;box-sizing: border-box;margin-bottom: 0.5em;}#sk-container-id-2 div.sk-estimator:hover {background-color: #d4ebff;}#sk-container-id-2 div.sk-parallel-item::after {content: \"\";width: 100%;border-bottom: 1px solid gray;flex-grow: 1;}#sk-container-id-2 div.sk-label:hover label.sk-toggleable__label {background-color: #d4ebff;}#sk-container-id-2 div.sk-serial::before {content: \"\";position: absolute;border-left: 1px solid gray;box-sizing: border-box;top: 0;bottom: 0;left: 50%;z-index: 0;}#sk-container-id-2 div.sk-serial {display: flex;flex-direction: column;align-items: center;background-color: white;padding-right: 0.2em;padding-left: 0.2em;position: relative;}#sk-container-id-2 div.sk-item {position: relative;z-index: 1;}#sk-container-id-2 div.sk-parallel {display: flex;align-items: stretch;justify-content: center;background-color: white;position: relative;}#sk-container-id-2 div.sk-item::before, #sk-container-id-2 div.sk-parallel-item::before {content: \"\";position: absolute;border-left: 1px solid gray;box-sizing: border-box;top: 0;bottom: 0;left: 50%;z-index: -1;}#sk-container-id-2 div.sk-parallel-item {display: flex;flex-direction: column;z-index: 1;position: relative;background-color: white;}#sk-container-id-2 div.sk-parallel-item:first-child::after {align-self: flex-end;width: 50%;}#sk-container-id-2 div.sk-parallel-item:last-child::after {align-self: flex-start;width: 50%;}#sk-container-id-2 div.sk-parallel-item:only-child::after {width: 0;}#sk-container-id-2 div.sk-dashed-wrapped {border: 1px dashed gray;margin: 0 0.4em 0.5em 0.4em;box-sizing: border-box;padding-bottom: 0.4em;background-color: white;}#sk-container-id-2 div.sk-label label {font-family: monospace;font-weight: bold;display: inline-block;line-height: 1.2em;}#sk-container-id-2 div.sk-label-container {text-align: center;}#sk-container-id-2 div.sk-container {/* jupyter's `normalize.less` sets `[hidden] { display: none; }` but bootstrap.min.css set `[hidden] { display: none !important; }` so we also need the `!important` here to be able to override the default hidden behavior on the sphinx rendered scikit-learn.org. See: https://github.com/scikit-learn/scikit-learn/issues/21755 */display: inline-block !important;position: relative;}#sk-container-id-2 div.sk-text-repr-fallback {display: none;}</style><div id=\"sk-container-id-2\" class=\"sk-top-container\"><div class=\"sk-text-repr-fallback\"><pre>LinearRegression()</pre><b>In a Jupyter environment, please rerun this cell to show the HTML representation or trust the notebook. <br />On GitHub, the HTML representation is unable to render, please try loading this page with nbviewer.org.</b></div><div class=\"sk-container\" hidden><div class=\"sk-item\"><div class=\"sk-estimator sk-toggleable\"><input class=\"sk-toggleable__control sk-hidden--visually\" id=\"sk-estimator-id-2\" type=\"checkbox\" checked><label for=\"sk-estimator-id-2\" class=\"sk-toggleable__label sk-toggleable__label-arrow\">LinearRegression</label><div class=\"sk-toggleable__content\"><pre>LinearRegression()</pre></div></div></div></div></div>"
      ],
      "text/plain": [
       "LinearRegression()"
      ]
     },
     "execution_count": 21,
     "metadata": {},
     "output_type": "execute_result"
    }
   ],
   "source": [
    "model = LinearRegression()\n",
    "model.fit(X, y)"
   ]
  },
  {
   "cell_type": "code",
   "execution_count": 22,
   "metadata": {},
   "outputs": [
    {
     "name": "stdout",
     "output_type": "stream",
     "text": [
      "  Attribute  Part-Worth\n",
      "0     brand        0.05\n",
      "1     price       -0.45\n",
      "2    weight       -3.55\n",
      "3     crust       -3.50\n",
      "4    cheese        0.50\n",
      "5      size        0.50\n",
      "6  toppings       -2.25\n",
      "7     spicy       -1.50\n"
     ]
    }
   ],
   "source": [
    "\n",
    "part_worths = pd.DataFrame({'Attribute': X.columns, 'Part-Worth': model.coef_})\n",
    "print(part_worths)\n",
    "\n",
    "df['Utility'] = model.predict(X)\n",
    "\n"
   ]
  },
  {
   "cell_type": "markdown",
   "metadata": {},
   "source": [
    "## THE BEST COMBINATION"
   ]
  },
  {
   "cell_type": "code",
   "execution_count": 23,
   "metadata": {},
   "outputs": [
    {
     "name": "stdout",
     "output_type": "stream",
     "text": [
      "Best Combination:\n",
      " brand       Oven Story\n",
      "price              4.0\n",
      "weight            100g\n",
      "crust            thick\n",
      "cheese      Mozzarella\n",
      "size             large\n",
      "toppings      mushroom\n",
      "spicy            extra\n",
      "ranking           16.0\n",
      "Utility           16.8\n",
      "Name: 9, dtype: object\n"
     ]
    }
   ],
   "source": [
    "best_combination_idx = df['Utility'].idxmax()\n",
    "\n",
    "best_combination = df.loc[best_combination_idx].copy()\n",
    "for col in ['brand', 'weight', 'crust', 'cheese', 'size', 'toppings', 'spicy']:\n",
    "    best_combination[col] = label_encoders[col].inverse_transform([int(best_combination[col])])[0]\n",
    "\n",
    "print(\"Best Combination:\\n\", best_combination)"
   ]
  },
  {
   "cell_type": "markdown",
   "metadata": {},
   "source": [
    "## PLOTTING"
   ]
  },
  {
   "cell_type": "code",
   "execution_count": 24,
   "metadata": {},
   "outputs": [
    {
     "data": {
      "image/png": "[encoded data removed]",
      "text/plain": [
       "<Figure size 1000x600 with 1 Axes>"
      ]
     },
     "metadata": {},
     "output_type": "display_data"
    }
   ],
   "source": [
    "plt.figure(figsize=(10, 6))\n",
    "plt.bar(part_worths['Attribute'], part_worths['Part-Worth'], color='skyblue')\n",
    "plt.title('Part-Worths of Each Attribute')\n",
    "plt.xlabel('Attributes')\n",
    "plt.ylabel('Part-Worths (Utility)')\n",
    "plt.xticks(rotation=45)\n",
    "plt.show()"
   ]
  },
  {
   "cell_type": "code",
   "execution_count": null,
   "metadata": {},
   "outputs": [],
   "source": []
  }
 ],
 "metadata": {
  "kernelspec": {
   "display_name": "base",
   "language": "python",
   "name": "python3"
  },
  "language_info": {
   "codemirror_mode": {
    "name": "ipython",
    "version": 3
   },
   "file_extension": ".py",
   "mimetype": "text/x-python",
   "name": "python",
   "nbconvert_exporter": "python",
   "pygments_lexer": "ipython3",
   "version": "3.11.3"
  }
 },
 "nbformat": 4,
 "nbformat_minor": 2
}
