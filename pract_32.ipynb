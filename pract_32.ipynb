{
 "cells": [
  {
   "cell_type": "code",
   "execution_count": 1,
   "metadata": {},
   "outputs": [],
   "source": [
    "# Name=Dudhe Pooja \n",
    "# PRN=2301208032"
   ]
  },
  {
   "cell_type": "markdown",
   "metadata": {},
   "source": [
    "# Conjoint Analysis of Pizza Preferences"
   ]
  },
  {
   "cell_type": "markdown",
   "metadata": {},
   "source": [
    "#### **Problem Statement**\n",
    "\n",
    "The objective of this project is to analyze consumer preferences for various pizza attributes. By examining how factors such as brand, price, weight, crust type, cheese type, size, toppings, and spiciness influence consumer rankings, this analysis aims to provide insights that can help businesses optimize their product offerings and marketing strategies."
   ]
  },
  {
   "cell_type": "markdown",
   "metadata": {},
   "source": [
    "#### **Dataset Information**\n",
    "\n",
    "**Dataset Name:** Pizza Attributes Dataset for Conjoint Analysis\n",
    "\n",
    "**Description:**  This dataset includes various pizza profiles with different attributes and their corresponding rankings. It enables conjoint analysis to determine the importance of each attribute and identify the most preferred pizza profile.\n",
    "\n",
    "**Columns:**\n",
    "1. **Brand:** Brand of the pizza (e.g., Dominos, Pizza Hut).\n",
    "2. **Price:** Price of the pizza.\n",
    "3. **Weight:** Weight of the pizza.\n",
    "4. **Crust:** Type of crust (e.g., thin, thick).\n",
    "5. **Cheese:** Type of cheese (e.g., Mozzarella, Cheddar).\n",
    "6. **Size:** Size of the pizza (e.g., regular, large).\n",
    "7. **Toppings:** Included toppings (e.g., paneer, mushroom).\n",
    "8. **Spicy:** Level of spiciness (e.g., normal, extra).\n",
    "9. **Ranking:** Consumer ranking of the pizza."
   ]
  },
  {
   "cell_type": "markdown",
   "metadata": {},
   "source": [
    "### Step:1 Import necessary libraries"
   ]
  },
  {
   "cell_type": "code",
   "execution_count": 2,
   "metadata": {},
   "outputs": [],
   "source": [
    "import numpy as np                   # For data manipulation\n",
    "import pandas as pd                  # For numerical operations\n",
    "import matplotlib.pyplot as Plt      # For data visualization\n",
    "import seaborn as sns                # For advanced data visualization"
   ]
  },
  {
   "cell_type": "markdown",
   "metadata": {},
   "source": [
    "### Step:2 Upload the dataset"
   ]
  },
  {
   "cell_type": "code",
   "execution_count": 3,
   "metadata": {},
   "outputs": [
    {
     "data": {
      "text/html": [
       "<div>\n",
       "<style scoped>\n",
       "    .dataframe tbody tr th:only-of-type {\n",
       "        vertical-align: middle;\n",
       "    }\n",
       "\n",
       "    .dataframe tbody tr th {\n",
       "        vertical-align: top;\n",
       "    }\n",
       "\n",
       "    .dataframe thead th {\n",
       "        text-align: right;\n",
       "    }\n",
       "</style>\n",
       "<table border=\"1\" class=\"dataframe\">\n",
       "  <thead>\n",
       "    <tr style=\"text-align: right;\">\n",
       "      <th></th>\n",
       "      <th>brand</th>\n",
       "      <th>price</th>\n",
       "      <th>weight</th>\n",
       "      <th>crust</th>\n",
       "      <th>cheese</th>\n",
       "      <th>size</th>\n",
       "      <th>toppings</th>\n",
       "      <th>spicy</th>\n",
       "      <th>ranking</th>\n",
       "    </tr>\n",
       "  </thead>\n",
       "  <tbody>\n",
       "    <tr>\n",
       "      <th>0</th>\n",
       "      <td>Dominos</td>\n",
       "      <td>$1.00</td>\n",
       "      <td>100g</td>\n",
       "      <td>thin</td>\n",
       "      <td>Mozzarella</td>\n",
       "      <td>regular</td>\n",
       "      <td>paneer</td>\n",
       "      <td>normal</td>\n",
       "      <td>11</td>\n",
       "    </tr>\n",
       "    <tr>\n",
       "      <th>1</th>\n",
       "      <td>Pizza hut</td>\n",
       "      <td>$3.00</td>\n",
       "      <td>100g</td>\n",
       "      <td>thin</td>\n",
       "      <td>Cheddar</td>\n",
       "      <td>large</td>\n",
       "      <td>mushroom</td>\n",
       "      <td>normal</td>\n",
       "      <td>12</td>\n",
       "    </tr>\n",
       "    <tr>\n",
       "      <th>2</th>\n",
       "      <td>Onesta</td>\n",
       "      <td>$4.00</td>\n",
       "      <td>200g</td>\n",
       "      <td>thin</td>\n",
       "      <td>Mozzarella</td>\n",
       "      <td>regular</td>\n",
       "      <td>mushroom</td>\n",
       "      <td>normal</td>\n",
       "      <td>9</td>\n",
       "    </tr>\n",
       "    <tr>\n",
       "      <th>3</th>\n",
       "      <td>Pizza hut</td>\n",
       "      <td>$4.00</td>\n",
       "      <td>400g</td>\n",
       "      <td>thick</td>\n",
       "      <td>Cheddar</td>\n",
       "      <td>regular</td>\n",
       "      <td>paneer</td>\n",
       "      <td>normal</td>\n",
       "      <td>2</td>\n",
       "    </tr>\n",
       "    <tr>\n",
       "      <th>4</th>\n",
       "      <td>Pizza hut</td>\n",
       "      <td>$2.00</td>\n",
       "      <td>300g</td>\n",
       "      <td>thin</td>\n",
       "      <td>Mozzarella</td>\n",
       "      <td>regular</td>\n",
       "      <td>mushroom</td>\n",
       "      <td>extra</td>\n",
       "      <td>8</td>\n",
       "    </tr>\n",
       "  </tbody>\n",
       "</table>\n",
       "</div>"
      ],
      "text/plain": [
       "       brand  price weight  crust      cheese     size  toppings   spicy  \\\n",
       "0    Dominos  $1.00   100g   thin  Mozzarella  regular    paneer  normal   \n",
       "1  Pizza hut  $3.00   100g   thin     Cheddar    large  mushroom  normal   \n",
       "2     Onesta  $4.00   200g   thin  Mozzarella  regular  mushroom  normal   \n",
       "3  Pizza hut  $4.00   400g  thick     Cheddar  regular    paneer  normal   \n",
       "4  Pizza hut  $2.00   300g   thin  Mozzarella  regular  mushroom   extra   \n",
       "\n",
       "   ranking  \n",
       "0       11  \n",
       "1       12  \n",
       "2        9  \n",
       "3        2  \n",
       "4        8  "
      ]
     },
     "execution_count": 3,
     "metadata": {},
     "output_type": "execute_result"
    }
   ],
   "source": [
    "data=pd.read_csv(r\"C:\\Users\\user5\\OneDrive\\Documents\\ai marketing\\dataset_pizza_data (1).csv\")\n",
    "data.head()"
   ]
  },
  {
   "cell_type": "markdown",
   "metadata": {},
   "source": [
    "### Step:3 Data Exploaration and Cleaning"
   ]
  },
  {
   "cell_type": "code",
   "execution_count": 5,
   "metadata": {},
   "outputs": [
    {
     "name": "stdout",
     "output_type": "stream",
     "text": [
      "Columns in the DataFrame:\n",
      "Index(['brand', 'price', 'weight', 'crust', 'cheese', 'size', 'toppings',\n",
      "       'spicy', 'ranking'],\n",
      "      dtype='object')\n"
     ]
    }
   ],
   "source": [
    "# Display the columns\n",
    "print(\"Columns in the DataFrame:\")\n",
    "print(data.columns)"
   ]
  },
  {
   "cell_type": "code",
   "execution_count": 6,
   "metadata": {},
   "outputs": [
    {
     "name": "stdout",
     "output_type": "stream",
     "text": [
      "<class 'pandas.core.frame.DataFrame'>\n",
      "RangeIndex: 16 entries, 0 to 15\n",
      "Data columns (total 9 columns):\n",
      " #   Column    Non-Null Count  Dtype \n",
      "---  ------    --------------  ----- \n",
      " 0   brand     16 non-null     object\n",
      " 1   price     16 non-null     object\n",
      " 2   weight    16 non-null     object\n",
      " 3   crust     16 non-null     object\n",
      " 4   cheese    16 non-null     object\n",
      " 5   size      16 non-null     object\n",
      " 6   toppings  16 non-null     object\n",
      " 7   spicy     16 non-null     object\n",
      " 8   ranking   16 non-null     int64 \n",
      "dtypes: int64(1), object(8)\n",
      "memory usage: 1.3+ KB\n"
     ]
    }
   ],
   "source": [
    "data.info()"
   ]
  },
  {
   "cell_type": "code",
   "execution_count": 9,
   "metadata": {},
   "outputs": [
    {
     "name": "stdout",
     "output_type": "stream",
     "text": [
      "\n",
      "Data types of each column:\n",
      "brand       object\n",
      "price       object\n",
      "weight      object\n",
      "crust       object\n",
      "cheese      object\n",
      "size        object\n",
      "toppings    object\n",
      "spicy       object\n",
      "ranking      int64\n",
      "dtype: object\n"
     ]
    }
   ],
   "source": [
    "print(\"\\nData types of each column:\")\n",
    "print(data.dtypes)"
   ]
  },
  {
   "cell_type": "code",
   "execution_count": 10,
   "metadata": {},
   "outputs": [
    {
     "name": "stdout",
     "output_type": "stream",
     "text": [
      "\n",
      "Summary statistics of numerical columns:\n"
     ]
    },
    {
     "data": {
      "text/html": [
       "<div>\n",
       "<style scoped>\n",
       "    .dataframe tbody tr th:only-of-type {\n",
       "        vertical-align: middle;\n",
       "    }\n",
       "\n",
       "    .dataframe tbody tr th {\n",
       "        vertical-align: top;\n",
       "    }\n",
       "\n",
       "    .dataframe thead th {\n",
       "        text-align: right;\n",
       "    }\n",
       "</style>\n",
       "<table border=\"1\" class=\"dataframe\">\n",
       "  <thead>\n",
       "    <tr style=\"text-align: right;\">\n",
       "      <th></th>\n",
       "      <th>ranking</th>\n",
       "    </tr>\n",
       "  </thead>\n",
       "  <tbody>\n",
       "    <tr>\n",
       "      <th>count</th>\n",
       "      <td>16.000000</td>\n",
       "    </tr>\n",
       "    <tr>\n",
       "      <th>mean</th>\n",
       "      <td>8.500000</td>\n",
       "    </tr>\n",
       "    <tr>\n",
       "      <th>std</th>\n",
       "      <td>4.760952</td>\n",
       "    </tr>\n",
       "    <tr>\n",
       "      <th>min</th>\n",
       "      <td>1.000000</td>\n",
       "    </tr>\n",
       "    <tr>\n",
       "      <th>25%</th>\n",
       "      <td>4.750000</td>\n",
       "    </tr>\n",
       "    <tr>\n",
       "      <th>50%</th>\n",
       "      <td>8.500000</td>\n",
       "    </tr>\n",
       "    <tr>\n",
       "      <th>75%</th>\n",
       "      <td>12.250000</td>\n",
       "    </tr>\n",
       "    <tr>\n",
       "      <th>max</th>\n",
       "      <td>16.000000</td>\n",
       "    </tr>\n",
       "  </tbody>\n",
       "</table>\n",
       "</div>"
      ],
      "text/plain": [
       "         ranking\n",
       "count  16.000000\n",
       "mean    8.500000\n",
       "std     4.760952\n",
       "min     1.000000\n",
       "25%     4.750000\n",
       "50%     8.500000\n",
       "75%    12.250000\n",
       "max    16.000000"
      ]
     },
     "execution_count": 10,
     "metadata": {},
     "output_type": "execute_result"
    }
   ],
   "source": [
    "print(\"\\nSummary statistics of numerical columns:\")\n",
    "data.describe()"
   ]
  },
  {
   "cell_type": "code",
   "execution_count": 12,
   "metadata": {},
   "outputs": [],
   "source": [
    "# Data Cleaning\n",
    "# Remove '$' from price and convert to float using a raw string\n",
    "data['price'] = data['price'].replace({r'\\$': '', 'USD': ''}, regex=True).astype(float)"
   ]
  },
  {
   "cell_type": "code",
   "execution_count": 13,
   "metadata": {},
   "outputs": [],
   "source": [
    "# Convert weight to numerical values (remove 'g' and convert to int)\n",
    "data['weight'] = data['weight'].replace({'g': ''}, regex=True).astype(int)"
   ]
  },
  {
   "cell_type": "code",
   "execution_count": 14,
   "metadata": {},
   "outputs": [
    {
     "name": "stdout",
     "output_type": "stream",
     "text": [
      "\n",
      "Missing values after cleaning:\n",
      "brand       0\n",
      "price       0\n",
      "weight      0\n",
      "crust       0\n",
      "cheese      0\n",
      "size        0\n",
      "toppings    0\n",
      "spicy       0\n",
      "ranking     0\n",
      "dtype: int64\n"
     ]
    }
   ],
   "source": [
    "# Check again for missing values and duplicates\n",
    "print(\"\\nMissing values after cleaning:\")\n",
    "print(data.isnull().sum())"
   ]
  },
  {
   "cell_type": "code",
   "execution_count": 16,
   "metadata": {},
   "outputs": [
    {
     "name": "stdout",
     "output_type": "stream",
     "text": [
      "\n",
      "Duplicates after cleaning:\n",
      "0\n"
     ]
    }
   ],
   "source": [
    "print(\"\\nDuplicates after cleaning:\")\n",
    "print(data.duplicated().sum())"
   ]
  },
  {
   "cell_type": "markdown",
   "metadata": {},
   "source": [
    "### Step 4: Data Preprocessing"
   ]
  },
  {
   "cell_type": "code",
   "execution_count": 17,
   "metadata": {},
   "outputs": [],
   "source": [
    "from sklearn.preprocessing import LabelEncoder"
   ]
  },
  {
   "cell_type": "code",
   "execution_count": 19,
   "metadata": {},
   "outputs": [],
   "source": [
    "# Initialize label encoders for categorical features\n",
    "label_encoders = {}\n",
    "\n",
    "# Categorical columns to encode\n",
    "categorical_cols = ['brand', 'crust', 'cheese', 'size', 'toppings', 'spicy']\n",
    "\n",
    "# Encoding categorical columns\n",
    "for col in categorical_cols:\n",
    "    le = LabelEncoder()\n",
    "    data[col] = le.fit_transform(data[col])\n",
    "    label_encoders[col] = le                # Save the encoder if you want to reverse later"
   ]
  },
  {
   "cell_type": "code",
   "execution_count": 21,
   "metadata": {},
   "outputs": [
    {
     "name": "stdout",
     "output_type": "stream",
     "text": [
      "DataFrame after encoding categorical variables:\n",
      "   brand  price  weight  crust  cheese  size  toppings  spicy  ranking\n",
      "0      0    1.0     100      1       1     1         1      1       11\n",
      "1      3    3.0     100      1       0     0         0      1       12\n",
      "2      1    4.0     200      1       1     1         0      1        9\n",
      "3      3    4.0     400      0       0     1         1      1        2\n",
      "4      3    2.0     300      1       1     1         0      0        8\n"
     ]
    }
   ],
   "source": [
    "# Display the DataFrame after encoding\n",
    "print(\"DataFrame after encoding categorical variables:\")\n",
    "print(data.head())"
   ]
  },
  {
   "cell_type": "markdown",
   "metadata": {},
   "source": [
    "### Step 5: Setting Up the Conjoint Analysis"
   ]
  },
  {
   "cell_type": "code",
   "execution_count": 23,
   "metadata": {},
   "outputs": [],
   "source": [
    "# Define the dependent variable (ranking)\n",
    "y = data['ranking'] "
   ]
  },
  {
   "cell_type": "code",
   "execution_count": 24,
   "metadata": {},
   "outputs": [],
   "source": [
    "# Define independent variables (features)\n",
    "X = data.drop(columns=['ranking']) "
   ]
  },
  {
   "cell_type": "markdown",
   "metadata": {},
   "source": [
    "### Step 6: Building the Conjoint Analysis Model"
   ]
  },
  {
   "cell_type": "code",
   "execution_count": 30,
   "metadata": {},
   "outputs": [],
   "source": [
    "import statsmodels.api as sm"
   ]
  },
  {
   "cell_type": "code",
   "execution_count": 31,
   "metadata": {},
   "outputs": [],
   "source": [
    "# Adding a constant term for the intercept\n",
    "X = sm.add_constant(X)"
   ]
  },
  {
   "cell_type": "code",
   "execution_count": 32,
   "metadata": {},
   "outputs": [],
   "source": [
    "# Fit the regression model\n",
    "model = sm.OLS(y, X).fit()"
   ]
  },
  {
   "cell_type": "code",
   "execution_count": 33,
   "metadata": {},
   "outputs": [
    {
     "name": "stdout",
     "output_type": "stream",
     "text": [
      "                            OLS Regression Results                            \n",
      "==============================================================================\n",
      "Dep. Variable:                ranking   R-squared:                       0.989\n",
      "Model:                            OLS   Adj. R-squared:                  0.977\n",
      "Method:                 Least Squares   F-statistic:                     81.76\n",
      "Date:                Tue, 15 Oct 2024   Prob (F-statistic):           3.19e-06\n",
      "Time:                        10:54:26   Log-Likelihood:                -10.770\n",
      "No. Observations:                  16   AIC:                             39.54\n",
      "Df Residuals:                       7   BIC:                             46.49\n",
      "Df Model:                           8                                         \n",
      "Covariance Type:            nonrobust                                         \n",
      "==============================================================================\n",
      "                 coef    std err          t      P>|t|      [0.025      0.975]\n",
      "------------------------------------------------------------------------------\n",
      "const         21.5500      0.756     28.490      0.000      19.761      23.339\n",
      "brand          0.0500      0.160      0.312      0.764      -0.329       0.429\n",
      "price         -0.4500      0.160     -2.806      0.026      -0.829      -0.071\n",
      "weight        -0.0355      0.002    -22.138      0.000      -0.039      -0.032\n",
      "crust         -3.5000      0.359     -9.761      0.000      -4.348      -2.652\n",
      "cheese         0.5000      0.359      1.394      0.206      -0.348       1.348\n",
      "size           0.5000      0.359      1.394      0.206      -0.348       1.348\n",
      "toppings      -2.2500      0.359     -6.275      0.000      -3.098      -1.402\n",
      "spicy         -1.5000      0.359     -4.183      0.004      -2.348      -0.652\n",
      "==============================================================================\n",
      "Omnibus:                        6.427   Durbin-Watson:                   1.387\n",
      "Prob(Omnibus):                  0.040   Jarque-Bera (JB):                1.576\n",
      "Skew:                           0.009   Prob(JB):                        0.455\n",
      "Kurtosis:                       1.463   Cond. No.                     1.21e+03\n",
      "==============================================================================\n",
      "\n",
      "Notes:\n",
      "[1] Standard Errors assume that the covariance matrix of the errors is correctly specified.\n",
      "[2] The condition number is large, 1.21e+03. This might indicate that there are\n",
      "strong multicollinearity or other numerical problems.\n"
     ]
    },
    {
     "name": "stderr",
     "output_type": "stream",
     "text": [
      "c:\\Users\\user5\\OneDrive\\Documents\\ai marketing\\aienv\\Lib\\site-packages\\scipy\\stats\\_axis_nan_policy.py:418: UserWarning: `kurtosistest` p-value may be inaccurate with fewer than 20 observations; only n=16 observations were given.\n",
      "  return hypotest_fun_in(*args, **kwds)\n"
     ]
    }
   ],
   "source": [
    "# Print the model summary to see the results\n",
    "print(model.summary())"
   ]
  },
  {
   "cell_type": "markdown",
   "metadata": {},
   "source": [
    "### **Interpretation of OLS Regression Results**\n",
    "\n",
    "- The **R-squared value of 0.989** indicates that approximately **98.9% of the variance** in pizza rankings can be explained by the independent variables, suggesting an **excellent model fit**.\n",
    "  \n",
    "- The **coefficient for price** is **-0.4500**, indicating that for each **1-unit increase in price**, the ranking is expected to **decrease by 0.4500**. This highlights that **higher prices negatively affect rankings**.\n",
    "\n",
    "- The **weight** of the pizza has a significant negative relationship with rankings, with a coefficient of **-0.0355**, suggesting that **heavier pizzas tend to receive lower rankings**.\n",
    "\n",
    "- The **crust type** significantly impacts rankings, with a coefficient of **-3.5000**, indicating that specific crust choices can lead to **lower rankings**.\n",
    "\n",
    "- Both **toppings** and **spiciness** show strong negative relationships with rankings, with coefficients of **-2.2500** and **-1.5000**, respectively, suggesting that the presence of certain **toppings and spicy flavors may detract from the overall pizza ranking**.\n",
    "\n",
    "- The **brand, cheese, and size** variables did not show statistically significant effects on rankings, as their p-values are greater than 0.05, indicating that these features may not have a strong influence on how pizzas are ranked.\n",
    "\n",
    "- In summary, the analysis reveals that **price, weight, crust, toppings, and spiciness** significantly affect pizza rankings, with **higher prices and heavier weights leading to lower rankings**. Understanding these factors can help pizza brands optimize their offerings for better customer satisfaction and rankings."
   ]
  },
  {
   "cell_type": "markdown",
   "metadata": {},
   "source": [
    "### Step 7: Visualization of Results"
   ]
  },
  {
   "cell_type": "code",
   "execution_count": 36,
   "metadata": {},
   "outputs": [
    {
     "name": "stderr",
     "output_type": "stream",
     "text": [
      "C:\\Users\\user5\\AppData\\Local\\Temp\\ipykernel_15932\\2840307470.py:14: FutureWarning: \n",
      "\n",
      "Passing `palette` without assigning `hue` is deprecated and will be removed in v0.14.0. Assign the `y` variable to `hue` and set `legend=False` for the same effect.\n",
      "\n",
      "  sns.barplot(x='Coefficient', y='Feature', data=coef_data.drop(index='const'), palette='viridis')\n"
     ]
    },
    {
     "data": {
      "image/png": "[encoded data removed]",
      "text/plain": [
       "<Figure size 1000x600 with 1 Axes>"
      ]
     },
     "metadata": {},
     "output_type": "display_data"
    }
   ],
   "source": [
    "import matplotlib.pyplot as Plt\n",
    "import pandas as pd\n",
    "import seaborn as sns\n",
    "\n",
    "# Get coefficients and their corresponding feature names\n",
    "coefficients = model.params\n",
    "features = coefficients.index\n",
    "\n",
    "# Create a DataFrame for visualization\n",
    "coef_data = pd.DataFrame({'Feature': features, 'Coefficient': coefficients})\n",
    "\n",
    "# Create the plot\n",
    "Plt.figure(figsize=(10, 6))\n",
    "sns.barplot(x='Coefficient', y='Feature', data=coef_data.drop(index='const'), palette='viridis')\n",
    "Plt.title('Impact of Features on Pizza Ranking')\n",
    "Plt.xlabel('Coefficient Value')\n",
    "Plt.ylabel('Features')\n",
    "Plt.axvline(0, color='grey', linestyle='--')\n",
    "Plt.show()\n"
   ]
  },
  {
   "cell_type": "markdown",
   "metadata": {},
   "source": [
    "# Conclusion\n",
    "\n",
    "- The **conjoint analysis** conducted on the pizza dataset used **OLS regression** to determine how different features affect the **ranking** of pizzas.\n",
    "- Key features analyzed included **brand**, **price**, **weight**, **crust**, **cheese**, **size**, **toppings**, and **spicy level**.\n",
    "- The results showed that **price** and **crust type** had the most significant impact on pizza rankings, with a **negative coefficient** for price indicating that **higher prices** are associated with **lower rankings**.\n",
    "- The **weight** of the pizza also showed a **negative relationship**, suggesting that **heavier pizzas** receive lower ratings.\n",
    "- In contrast, features like **cheese**, **size**, and **brand** had less influence on consumer preferences.\n",
    "- Overall, this analysis highlights the importance of understanding consumer preferences in the pizza market, particularly the need to balance **price** and **crust type** to enhance **customer satisfaction** and improve **sales**."
   ]
  }
 ],
 "metadata": {
  "kernelspec": {
   "display_name": "aienv",
   "language": "python",
   "name": "python3"
  },
  "language_info": {
   "codemirror_mode": {
    "name": "ipython",
    "version": 3
   },
   "file_extension": ".py",
   "mimetype": "text/x-python",
   "name": "python",
   "nbconvert_exporter": "python",
   "pygments_lexer": "ipython3",
   "version": "3.12.6"
  }
 },
 "nbformat": 4,
 "nbformat_minor": 2
}
