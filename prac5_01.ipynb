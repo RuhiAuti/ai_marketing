{
 "cells": [
  {
   "cell_type": "markdown",
   "id": "573c8df4",
   "metadata": {
    "papermill": {
     "duration": 0.038871,
     "end_time": "2021-10-13T22:07:43.920882",
     "exception": false,
     "start_time": "2021-10-13T22:07:43.882011",
     "status": "completed"
    },
    "tags": []
   },
   "source": [
    "# Recency-Frequency-Monetary"
   ]
  },
  {
   "cell_type": "code",
   "execution_count": 1,
   "id": "275dd6fc",
   "metadata": {
    "_cell_guid": "b1076dfc-b9ad-4769-8c92-a6c4dae69d19",
    "_uuid": "8f2839f25d086af736a60e9eeb907d3b93b6e0e5",
    "execution": {
     "iopub.execute_input": "2021-10-13T22:07:44.236730Z",
     "iopub.status.busy": "2021-10-13T22:07:44.236039Z",
     "iopub.status.idle": "2021-10-13T22:07:44.248369Z",
     "shell.execute_reply": "2021-10-13T22:07:44.247709Z",
     "shell.execute_reply.started": "2021-09-11T22:35:23.74498Z"
    },
    "papermill": {
     "duration": 0.061371,
     "end_time": "2021-10-13T22:07:44.248528",
     "exception": false,
     "start_time": "2021-10-13T22:07:44.187157",
     "status": "completed"
    },
    "tags": []
   },
   "outputs": [],
   "source": [
    "\n",
    "import numpy as np \n",
    "import pandas as pd \n",
    "\n",
    "\n",
    "import os\n",
    "for dirname, _, filenames in os.walk('/kaggle/input'):\n",
    "    for filename in filenames:\n",
    "        print(os.path.join(dirname, filename))\n",
    "\n"
   ]
  },
  {
   "cell_type": "markdown",
   "id": "b9abf065",
   "metadata": {
    "papermill": {
     "duration": 0.037192,
     "end_time": "2021-10-13T22:07:44.324166",
     "exception": false,
     "start_time": "2021-10-13T22:07:44.286974",
     "status": "completed"
    },
    "tags": []
   },
   "source": [
    "# What is RFM Analysis?"
   ]
  },
  {
   "cell_type": "markdown",
   "id": "342614be",
   "metadata": {
    "papermill": {
     "duration": 0.037469,
     "end_time": "2021-10-13T22:07:44.398943",
     "exception": false,
     "start_time": "2021-10-13T22:07:44.361474",
     "status": "completed"
    },
    "tags": []
   },
   "source": [
    "The RFM model is a customer segmentation technique. RFM stands for Recency, Frequency, and Monetary value, each corresponding to some key customer trait. These RFM metrics are important indicators of a customer's behavior because frequency and monetary value affects a customer's lifetime value, and recency affects retention, a measure of engagement."
   ]
  },
  {
   "cell_type": "markdown",
   "id": "67a43148",
   "metadata": {
    "papermill": {
     "duration": 0.037492,
     "end_time": "2021-10-13T22:07:44.475324",
     "exception": false,
     "start_time": "2021-10-13T22:07:44.437832",
     "status": "completed"
    },
    "tags": []
   },
   "source": [
    "# Data Understanding"
   ]
  },
  {
   "cell_type": "code",
   "execution_count": 2,
   "id": "c103a0a5",
   "metadata": {
    "execution": {
     "iopub.execute_input": "2021-10-13T22:07:44.556307Z",
     "iopub.status.busy": "2021-10-13T22:07:44.555326Z",
     "iopub.status.idle": "2021-10-13T22:07:44.558228Z",
     "shell.execute_reply": "2021-10-13T22:07:44.557741Z",
     "shell.execute_reply.started": "2021-09-11T22:35:23.763745Z"
    },
    "papermill": {
     "duration": 0.045462,
     "end_time": "2021-10-13T22:07:44.558361",
     "exception": false,
     "start_time": "2021-10-13T22:07:44.512899",
     "status": "completed"
    },
    "tags": []
   },
   "outputs": [],
   "source": [
    "import datetime as dt\n",
    "import pandas as pd\n",
    "pd.set_option('display.max_columns', None)\n",
    "pd.set_option('display.max_rows', None)\n",
    "pd.set_option('display.float_format', lambda x: '%.5f' % x)"
   ]
  },
  {
   "cell_type": "code",
   "execution_count": 3,
   "id": "b7b8c85b",
   "metadata": {
    "execution": {
     "iopub.execute_input": "2021-10-13T22:07:44.639658Z",
     "iopub.status.busy": "2021-10-13T22:07:44.638982Z",
     "iopub.status.idle": "2021-10-13T22:07:54.866658Z",
     "shell.execute_reply": "2021-10-13T22:07:54.866118Z",
     "shell.execute_reply.started": "2021-09-11T22:35:23.773776Z"
    },
    "papermill": {
     "duration": 10.26978,
     "end_time": "2021-10-13T22:07:54.866807",
     "exception": false,
     "start_time": "2021-10-13T22:07:44.597027",
     "status": "completed"
    },
    "tags": []
   },
   "outputs": [
    {
     "name": "stdout",
     "output_type": "stream",
     "text": [
      "Collecting openpyxl\n",
      "  Downloading openpyxl-3.1.5-py2.py3-none-any.whl.metadata (2.5 kB)\n",
      "Collecting et-xmlfile (from openpyxl)\n",
      "  Downloading et_xmlfile-2.0.0-py3-none-any.whl.metadata (2.7 kB)\n",
      "Downloading openpyxl-3.1.5-py2.py3-none-any.whl (250 kB)\n",
      "Downloading et_xmlfile-2.0.0-py3-none-any.whl (18 kB)\n",
      "Installing collected packages: et-xmlfile, openpyxl\n",
      "Successfully installed et-xmlfile-2.0.0 openpyxl-3.1.5\n",
      "Note: you may need to restart the kernel to use updated packages.\n"
     ]
    }
   ],
   "source": [
    "pip install openpyxl"
   ]
  },
  {
   "cell_type": "code",
   "execution_count": 10,
   "id": "abed7469",
   "metadata": {
    "execution": {
     "iopub.execute_input": "2021-10-13T22:07:54.953747Z",
     "iopub.status.busy": "2021-10-13T22:07:54.953096Z",
     "iopub.status.idle": "2021-10-13T22:09:21.709878Z",
     "shell.execute_reply": "2021-10-13T22:09:21.709246Z",
     "shell.execute_reply.started": "2021-09-11T22:35:34.750832Z"
    },
    "papermill": {
     "duration": 86.802293,
     "end_time": "2021-10-13T22:09:21.710034",
     "exception": false,
     "start_time": "2021-10-13T22:07:54.907741",
     "status": "completed"
    },
    "tags": []
   },
   "outputs": [],
   "source": [
    "df = pd.read_excel(r\"C:\\Users\\Sarthak\\Downloads\\online_retail_II.xlsx\\online_retail_II.xlsx\", sheet_name='Year 2010-2011')"
   ]
  },
  {
   "cell_type": "code",
   "execution_count": 11,
   "id": "3835fc2e",
   "metadata": {
    "execution": {
     "iopub.execute_input": "2021-10-13T22:09:21.796651Z",
     "iopub.status.busy": "2021-10-13T22:09:21.795969Z",
     "iopub.status.idle": "2021-10-13T22:09:21.831585Z",
     "shell.execute_reply": "2021-10-13T22:09:21.831030Z",
     "shell.execute_reply.started": "2021-09-11T22:37:05.133732Z"
    },
    "papermill": {
     "duration": 0.080194,
     "end_time": "2021-10-13T22:09:21.831735",
     "exception": false,
     "start_time": "2021-10-13T22:09:21.751541",
     "status": "completed"
    },
    "tags": []
   },
   "outputs": [],
   "source": [
    "df_ = df.copy()"
   ]
  },
  {
   "cell_type": "code",
   "execution_count": 12,
   "id": "abf7a825",
   "metadata": {
    "execution": {
     "iopub.execute_input": "2021-10-13T22:09:21.921666Z",
     "iopub.status.busy": "2021-10-13T22:09:21.920673Z",
     "iopub.status.idle": "2021-10-13T22:09:22.082370Z",
     "shell.execute_reply": "2021-10-13T22:09:22.081701Z",
     "shell.execute_reply.started": "2021-09-11T22:37:05.181423Z"
    },
    "papermill": {
     "duration": 0.210231,
     "end_time": "2021-10-13T22:09:22.082512",
     "exception": false,
     "start_time": "2021-10-13T22:09:21.872281",
     "status": "completed"
    },
    "tags": []
   },
   "outputs": [
    {
     "data": {
      "text/html": [
       "<div>\n",
       "<style scoped>\n",
       "    .dataframe tbody tr th:only-of-type {\n",
       "        vertical-align: middle;\n",
       "    }\n",
       "\n",
       "    .dataframe tbody tr th {\n",
       "        vertical-align: top;\n",
       "    }\n",
       "\n",
       "    .dataframe thead th {\n",
       "        text-align: right;\n",
       "    }\n",
       "</style>\n",
       "<table border=\"1\" class=\"dataframe\">\n",
       "  <thead>\n",
       "    <tr style=\"text-align: right;\">\n",
       "      <th></th>\n",
       "      <th>Invoice</th>\n",
       "      <th>StockCode</th>\n",
       "      <th>Description</th>\n",
       "      <th>Quantity</th>\n",
       "      <th>InvoiceDate</th>\n",
       "      <th>Price</th>\n",
       "      <th>Customer ID</th>\n",
       "      <th>Country</th>\n",
       "    </tr>\n",
       "  </thead>\n",
       "  <tbody>\n",
       "    <tr>\n",
       "      <th>0</th>\n",
       "      <td>536365</td>\n",
       "      <td>85123A</td>\n",
       "      <td>WHITE HANGING HEART T-LIGHT HOLDER</td>\n",
       "      <td>6</td>\n",
       "      <td>2010-12-01 08:26:00</td>\n",
       "      <td>2.55000</td>\n",
       "      <td>17850.00000</td>\n",
       "      <td>United Kingdom</td>\n",
       "    </tr>\n",
       "    <tr>\n",
       "      <th>1</th>\n",
       "      <td>536365</td>\n",
       "      <td>71053</td>\n",
       "      <td>WHITE METAL LANTERN</td>\n",
       "      <td>6</td>\n",
       "      <td>2010-12-01 08:26:00</td>\n",
       "      <td>3.39000</td>\n",
       "      <td>17850.00000</td>\n",
       "      <td>United Kingdom</td>\n",
       "    </tr>\n",
       "    <tr>\n",
       "      <th>2</th>\n",
       "      <td>536365</td>\n",
       "      <td>84406B</td>\n",
       "      <td>CREAM CUPID HEARTS COAT HANGER</td>\n",
       "      <td>8</td>\n",
       "      <td>2010-12-01 08:26:00</td>\n",
       "      <td>2.75000</td>\n",
       "      <td>17850.00000</td>\n",
       "      <td>United Kingdom</td>\n",
       "    </tr>\n",
       "    <tr>\n",
       "      <th>3</th>\n",
       "      <td>536365</td>\n",
       "      <td>84029G</td>\n",
       "      <td>KNITTED UNION FLAG HOT WATER BOTTLE</td>\n",
       "      <td>6</td>\n",
       "      <td>2010-12-01 08:26:00</td>\n",
       "      <td>3.39000</td>\n",
       "      <td>17850.00000</td>\n",
       "      <td>United Kingdom</td>\n",
       "    </tr>\n",
       "    <tr>\n",
       "      <th>4</th>\n",
       "      <td>536365</td>\n",
       "      <td>84029E</td>\n",
       "      <td>RED WOOLLY HOTTIE WHITE HEART.</td>\n",
       "      <td>6</td>\n",
       "      <td>2010-12-01 08:26:00</td>\n",
       "      <td>3.39000</td>\n",
       "      <td>17850.00000</td>\n",
       "      <td>United Kingdom</td>\n",
       "    </tr>\n",
       "  </tbody>\n",
       "</table>\n",
       "</div>"
      ],
      "text/plain": [
       "  Invoice StockCode                          Description  Quantity  \\\n",
       "0  536365    85123A   WHITE HANGING HEART T-LIGHT HOLDER         6   \n",
       "1  536365     71053                  WHITE METAL LANTERN         6   \n",
       "2  536365    84406B       CREAM CUPID HEARTS COAT HANGER         8   \n",
       "3  536365    84029G  KNITTED UNION FLAG HOT WATER BOTTLE         6   \n",
       "4  536365    84029E       RED WOOLLY HOTTIE WHITE HEART.         6   \n",
       "\n",
       "          InvoiceDate   Price  Customer ID         Country  \n",
       "0 2010-12-01 08:26:00 2.55000  17850.00000  United Kingdom  \n",
       "1 2010-12-01 08:26:00 3.39000  17850.00000  United Kingdom  \n",
       "2 2010-12-01 08:26:00 2.75000  17850.00000  United Kingdom  \n",
       "3 2010-12-01 08:26:00 3.39000  17850.00000  United Kingdom  \n",
       "4 2010-12-01 08:26:00 3.39000  17850.00000  United Kingdom  "
      ]
     },
     "execution_count": 12,
     "metadata": {},
     "output_type": "execute_result"
    }
   ],
   "source": [
    "df.head()"
   ]
  },
  {
   "cell_type": "code",
   "execution_count": 13,
   "id": "a0dbaf49",
   "metadata": {
    "execution": {
     "iopub.execute_input": "2021-10-13T22:09:22.170795Z",
     "iopub.status.busy": "2021-10-13T22:09:22.170037Z",
     "iopub.status.idle": "2021-10-13T22:09:22.173107Z",
     "shell.execute_reply": "2021-10-13T22:09:22.173597Z",
     "shell.execute_reply.started": "2021-09-11T22:37:05.413559Z"
    },
    "papermill": {
     "duration": 0.050243,
     "end_time": "2021-10-13T22:09:22.173765",
     "exception": false,
     "start_time": "2021-10-13T22:09:22.123522",
     "status": "completed"
    },
    "tags": []
   },
   "outputs": [
    {
     "data": {
      "text/plain": [
       "(541910, 8)"
      ]
     },
     "execution_count": 13,
     "metadata": {},
     "output_type": "execute_result"
    }
   ],
   "source": [
    "df.shape"
   ]
  },
  {
   "cell_type": "code",
   "execution_count": 14,
   "id": "4f751ce6",
   "metadata": {
    "execution": {
     "iopub.execute_input": "2021-10-13T22:09:22.276301Z",
     "iopub.status.busy": "2021-10-13T22:09:22.267639Z",
     "iopub.status.idle": "2021-10-13T22:09:22.343026Z",
     "shell.execute_reply": "2021-10-13T22:09:22.343502Z",
     "shell.execute_reply.started": "2021-09-11T22:37:05.422917Z"
    },
    "papermill": {
     "duration": 0.128651,
     "end_time": "2021-10-13T22:09:22.343687",
     "exception": false,
     "start_time": "2021-10-13T22:09:22.215036",
     "status": "completed"
    },
    "tags": []
   },
   "outputs": [
    {
     "data": {
      "text/html": [
       "<div>\n",
       "<style scoped>\n",
       "    .dataframe tbody tr th:only-of-type {\n",
       "        vertical-align: middle;\n",
       "    }\n",
       "\n",
       "    .dataframe tbody tr th {\n",
       "        vertical-align: top;\n",
       "    }\n",
       "\n",
       "    .dataframe thead th {\n",
       "        text-align: right;\n",
       "    }\n",
       "</style>\n",
       "<table border=\"1\" class=\"dataframe\">\n",
       "  <thead>\n",
       "    <tr style=\"text-align: right;\">\n",
       "      <th></th>\n",
       "      <th>count</th>\n",
       "      <th>mean</th>\n",
       "      <th>min</th>\n",
       "      <th>25%</th>\n",
       "      <th>50%</th>\n",
       "      <th>75%</th>\n",
       "      <th>max</th>\n",
       "      <th>std</th>\n",
       "    </tr>\n",
       "  </thead>\n",
       "  <tbody>\n",
       "    <tr>\n",
       "      <th>Quantity</th>\n",
       "      <td>541910.00000</td>\n",
       "      <td>9.55223</td>\n",
       "      <td>-80995.00000</td>\n",
       "      <td>1.00000</td>\n",
       "      <td>3.00000</td>\n",
       "      <td>10.00000</td>\n",
       "      <td>80995.00000</td>\n",
       "      <td>218.08096</td>\n",
       "    </tr>\n",
       "    <tr>\n",
       "      <th>InvoiceDate</th>\n",
       "      <td>541910</td>\n",
       "      <td>2011-07-04 13:35:22.342307584</td>\n",
       "      <td>2010-12-01 08:26:00</td>\n",
       "      <td>2011-03-28 11:34:00</td>\n",
       "      <td>2011-07-19 17:17:00</td>\n",
       "      <td>2011-10-19 11:27:00</td>\n",
       "      <td>2011-12-09 12:50:00</td>\n",
       "      <td>NaN</td>\n",
       "    </tr>\n",
       "    <tr>\n",
       "      <th>Price</th>\n",
       "      <td>541910.00000</td>\n",
       "      <td>4.61114</td>\n",
       "      <td>-11062.06000</td>\n",
       "      <td>1.25000</td>\n",
       "      <td>2.08000</td>\n",
       "      <td>4.13000</td>\n",
       "      <td>38970.00000</td>\n",
       "      <td>96.75977</td>\n",
       "    </tr>\n",
       "    <tr>\n",
       "      <th>Customer ID</th>\n",
       "      <td>406830.00000</td>\n",
       "      <td>15287.68416</td>\n",
       "      <td>12346.00000</td>\n",
       "      <td>13953.00000</td>\n",
       "      <td>15152.00000</td>\n",
       "      <td>16791.00000</td>\n",
       "      <td>18287.00000</td>\n",
       "      <td>1713.60307</td>\n",
       "    </tr>\n",
       "  </tbody>\n",
       "</table>\n",
       "</div>"
      ],
      "text/plain": [
       "                   count                           mean                  min  \\\n",
       "Quantity    541910.00000                        9.55223         -80995.00000   \n",
       "InvoiceDate       541910  2011-07-04 13:35:22.342307584  2010-12-01 08:26:00   \n",
       "Price       541910.00000                        4.61114         -11062.06000   \n",
       "Customer ID 406830.00000                    15287.68416          12346.00000   \n",
       "\n",
       "                             25%                  50%                  75%  \\\n",
       "Quantity                 1.00000              3.00000             10.00000   \n",
       "InvoiceDate  2011-03-28 11:34:00  2011-07-19 17:17:00  2011-10-19 11:27:00   \n",
       "Price                    1.25000              2.08000              4.13000   \n",
       "Customer ID          13953.00000          15152.00000          16791.00000   \n",
       "\n",
       "                             max        std  \n",
       "Quantity             80995.00000  218.08096  \n",
       "InvoiceDate  2011-12-09 12:50:00        NaN  \n",
       "Price                38970.00000   96.75977  \n",
       "Customer ID          18287.00000 1713.60307  "
      ]
     },
     "execution_count": 14,
     "metadata": {},
     "output_type": "execute_result"
    }
   ],
   "source": [
    "df.describe().T"
   ]
  },
  {
   "cell_type": "code",
   "execution_count": 15,
   "id": "c1496f48",
   "metadata": {
    "execution": {
     "iopub.execute_input": "2021-10-13T22:09:22.447026Z",
     "iopub.status.busy": "2021-10-13T22:09:22.431217Z",
     "iopub.status.idle": "2021-10-13T22:09:22.479898Z",
     "shell.execute_reply": "2021-10-13T22:09:22.479424Z",
     "shell.execute_reply.started": "2021-09-11T22:37:05.537245Z"
    },
    "papermill": {
     "duration": 0.093815,
     "end_time": "2021-10-13T22:09:22.480032",
     "exception": false,
     "start_time": "2021-10-13T22:09:22.386217",
     "status": "completed"
    },
    "tags": []
   },
   "outputs": [
    {
     "data": {
      "text/plain": [
       "4223"
      ]
     },
     "execution_count": 15,
     "metadata": {},
     "output_type": "execute_result"
    }
   ],
   "source": [
    "df[\"Description\"].nunique() "
   ]
  },
  {
   "cell_type": "code",
   "execution_count": 16,
   "id": "e712565f",
   "metadata": {
    "execution": {
     "iopub.execute_input": "2021-10-13T22:09:22.634445Z",
     "iopub.status.busy": "2021-10-13T22:09:22.633459Z",
     "iopub.status.idle": "2021-10-13T22:09:22.641230Z",
     "shell.execute_reply": "2021-10-13T22:09:22.640658Z",
     "shell.execute_reply.started": "2021-09-11T22:37:05.615231Z"
    },
    "papermill": {
     "duration": 0.118758,
     "end_time": "2021-10-13T22:09:22.641366",
     "exception": false,
     "start_time": "2021-10-13T22:09:22.522608",
     "status": "completed"
    },
    "tags": []
   },
   "outputs": [
    {
     "data": {
      "text/plain": [
       "Description\n",
       "WHITE HANGING HEART T-LIGHT HOLDER    2369\n",
       "REGENCY CAKESTAND 3 TIER              2200\n",
       "JUMBO BAG RED RETROSPOT               2159\n",
       "PARTY BUNTING                         1727\n",
       "LUNCH BAG RED RETROSPOT               1638\n",
       "Name: count, dtype: int64"
      ]
     },
     "execution_count": 16,
     "metadata": {},
     "output_type": "execute_result"
    }
   ],
   "source": [
    "df[\"Description\"].value_counts().head() "
   ]
  },
  {
   "cell_type": "code",
   "execution_count": 17,
   "id": "c79bd4fe",
   "metadata": {
    "execution": {
     "iopub.execute_input": "2021-10-13T22:09:22.750873Z",
     "iopub.status.busy": "2021-10-13T22:09:22.750234Z",
     "iopub.status.idle": "2021-10-13T22:09:22.818007Z",
     "shell.execute_reply": "2021-10-13T22:09:22.818542Z",
     "shell.execute_reply.started": "2021-09-11T22:37:05.695135Z"
    },
    "papermill": {
     "duration": 0.134289,
     "end_time": "2021-10-13T22:09:22.818745",
     "exception": false,
     "start_time": "2021-10-13T22:09:22.684456",
     "status": "completed"
    },
    "tags": []
   },
   "outputs": [
    {
     "data": {
      "text/html": [
       "<div>\n",
       "<style scoped>\n",
       "    .dataframe tbody tr th:only-of-type {\n",
       "        vertical-align: middle;\n",
       "    }\n",
       "\n",
       "    .dataframe tbody tr th {\n",
       "        vertical-align: top;\n",
       "    }\n",
       "\n",
       "    .dataframe thead th {\n",
       "        text-align: right;\n",
       "    }\n",
       "</style>\n",
       "<table border=\"1\" class=\"dataframe\">\n",
       "  <thead>\n",
       "    <tr style=\"text-align: right;\">\n",
       "      <th></th>\n",
       "      <th>Quantity</th>\n",
       "    </tr>\n",
       "    <tr>\n",
       "      <th>Description</th>\n",
       "      <th></th>\n",
       "    </tr>\n",
       "  </thead>\n",
       "  <tbody>\n",
       "    <tr>\n",
       "      <th>20713</th>\n",
       "      <td>-400</td>\n",
       "    </tr>\n",
       "    <tr>\n",
       "      <th>4 PURPLE FLOCK DINNER CANDLES</th>\n",
       "      <td>144</td>\n",
       "    </tr>\n",
       "    <tr>\n",
       "      <th>50'S CHRISTMAS GIFT BAG LARGE</th>\n",
       "      <td>1913</td>\n",
       "    </tr>\n",
       "    <tr>\n",
       "      <th>DOLLY GIRL BEAKER</th>\n",
       "      <td>2448</td>\n",
       "    </tr>\n",
       "    <tr>\n",
       "      <th>I LOVE LONDON MINI BACKPACK</th>\n",
       "      <td>389</td>\n",
       "    </tr>\n",
       "  </tbody>\n",
       "</table>\n",
       "</div>"
      ],
      "text/plain": [
       "                                Quantity\n",
       "Description                             \n",
       "20713                               -400\n",
       " 4 PURPLE FLOCK DINNER CANDLES       144\n",
       " 50'S CHRISTMAS GIFT BAG LARGE      1913\n",
       " DOLLY GIRL BEAKER                  2448\n",
       " I LOVE LONDON MINI BACKPACK         389"
      ]
     },
     "execution_count": 17,
     "metadata": {},
     "output_type": "execute_result"
    }
   ],
   "source": [
    "df.groupby(\"Description\").agg({\"Quantity\":\"sum\"}).head() "
   ]
  },
  {
   "cell_type": "code",
   "execution_count": 18,
   "id": "dd67d861",
   "metadata": {
    "execution": {
     "iopub.execute_input": "2021-10-13T22:09:22.908730Z",
     "iopub.status.busy": "2021-10-13T22:09:22.908124Z",
     "iopub.status.idle": "2021-10-13T22:09:22.982421Z",
     "shell.execute_reply": "2021-10-13T22:09:22.982922Z",
     "shell.execute_reply.started": "2021-09-11T22:37:05.789285Z"
    },
    "papermill": {
     "duration": 0.120955,
     "end_time": "2021-10-13T22:09:22.983112",
     "exception": false,
     "start_time": "2021-10-13T22:09:22.862157",
     "status": "completed"
    },
    "tags": []
   },
   "outputs": [
    {
     "data": {
      "text/html": [
       "<div>\n",
       "<style scoped>\n",
       "    .dataframe tbody tr th:only-of-type {\n",
       "        vertical-align: middle;\n",
       "    }\n",
       "\n",
       "    .dataframe tbody tr th {\n",
       "        vertical-align: top;\n",
       "    }\n",
       "\n",
       "    .dataframe thead th {\n",
       "        text-align: right;\n",
       "    }\n",
       "</style>\n",
       "<table border=\"1\" class=\"dataframe\">\n",
       "  <thead>\n",
       "    <tr style=\"text-align: right;\">\n",
       "      <th></th>\n",
       "      <th>Quantity</th>\n",
       "    </tr>\n",
       "    <tr>\n",
       "      <th>Description</th>\n",
       "      <th></th>\n",
       "    </tr>\n",
       "  </thead>\n",
       "  <tbody>\n",
       "    <tr>\n",
       "      <th>WORLD WAR 2 GLIDERS ASSTD DESIGNS</th>\n",
       "      <td>53847</td>\n",
       "    </tr>\n",
       "    <tr>\n",
       "      <th>JUMBO BAG RED RETROSPOT</th>\n",
       "      <td>47363</td>\n",
       "    </tr>\n",
       "    <tr>\n",
       "      <th>ASSORTED COLOUR BIRD ORNAMENT</th>\n",
       "      <td>36381</td>\n",
       "    </tr>\n",
       "    <tr>\n",
       "      <th>POPCORN HOLDER</th>\n",
       "      <td>36334</td>\n",
       "    </tr>\n",
       "    <tr>\n",
       "      <th>PACK OF 72 RETROSPOT CAKE CASES</th>\n",
       "      <td>36039</td>\n",
       "    </tr>\n",
       "  </tbody>\n",
       "</table>\n",
       "</div>"
      ],
      "text/plain": [
       "                                   Quantity\n",
       "Description                                \n",
       "WORLD WAR 2 GLIDERS ASSTD DESIGNS     53847\n",
       "JUMBO BAG RED RETROSPOT               47363\n",
       "ASSORTED COLOUR BIRD ORNAMENT         36381\n",
       "POPCORN HOLDER                        36334\n",
       "PACK OF 72 RETROSPOT CAKE CASES       36039"
      ]
     },
     "execution_count": 18,
     "metadata": {},
     "output_type": "execute_result"
    }
   ],
   "source": [
    "df.groupby(\"Description\").agg({\"Quantity\":\"sum\"}).sort_values(\"Quantity\", ascending = False).head()"
   ]
  },
  {
   "cell_type": "code",
   "execution_count": 19,
   "id": "9dca4d0a",
   "metadata": {
    "execution": {
     "iopub.execute_input": "2021-10-13T22:09:23.099766Z",
     "iopub.status.busy": "2021-10-13T22:09:23.073698Z",
     "iopub.status.idle": "2021-10-13T22:09:23.110260Z",
     "shell.execute_reply": "2021-10-13T22:09:23.109718Z",
     "shell.execute_reply.started": "2021-09-11T22:37:05.884707Z"
    },
    "papermill": {
     "duration": 0.083177,
     "end_time": "2021-10-13T22:09:23.110404",
     "exception": false,
     "start_time": "2021-10-13T22:09:23.027227",
     "status": "completed"
    },
    "tags": []
   },
   "outputs": [
    {
     "data": {
      "text/plain": [
       "25900"
      ]
     },
     "execution_count": 19,
     "metadata": {},
     "output_type": "execute_result"
    }
   ],
   "source": [
    "df[\"Invoice\"].nunique() "
   ]
  },
  {
   "cell_type": "code",
   "execution_count": 20,
   "id": "c4e7840b",
   "metadata": {
    "execution": {
     "iopub.execute_input": "2021-10-13T22:09:23.203471Z",
     "iopub.status.busy": "2021-10-13T22:09:23.202807Z",
     "iopub.status.idle": "2021-10-13T22:09:23.208576Z",
     "shell.execute_reply": "2021-10-13T22:09:23.208025Z",
     "shell.execute_reply.started": "2021-09-11T22:37:05.93324Z"
    },
    "papermill": {
     "duration": 0.054369,
     "end_time": "2021-10-13T22:09:23.208709",
     "exception": false,
     "start_time": "2021-10-13T22:09:23.154340",
     "status": "completed"
    },
    "tags": []
   },
   "outputs": [],
   "source": [
    "#to find out how much money has been earned, \"quantity * price\" must be made.\n",
    "df[\"TotalPrice\"] = df[\"Quantity\"] * df[\"Price\"]"
   ]
  },
  {
   "cell_type": "code",
   "execution_count": 21,
   "id": "2f7a8345",
   "metadata": {
    "execution": {
     "iopub.execute_input": "2021-10-13T22:09:23.299677Z",
     "iopub.status.busy": "2021-10-13T22:09:23.299040Z",
     "iopub.status.idle": "2021-10-13T22:09:23.311201Z",
     "shell.execute_reply": "2021-10-13T22:09:23.311680Z",
     "shell.execute_reply.started": "2021-09-11T22:37:05.945401Z"
    },
    "papermill": {
     "duration": 0.059319,
     "end_time": "2021-10-13T22:09:23.311841",
     "exception": false,
     "start_time": "2021-10-13T22:09:23.252522",
     "status": "completed"
    },
    "tags": []
   },
   "outputs": [
    {
     "data": {
      "text/html": [
       "<div>\n",
       "<style scoped>\n",
       "    .dataframe tbody tr th:only-of-type {\n",
       "        vertical-align: middle;\n",
       "    }\n",
       "\n",
       "    .dataframe tbody tr th {\n",
       "        vertical-align: top;\n",
       "    }\n",
       "\n",
       "    .dataframe thead th {\n",
       "        text-align: right;\n",
       "    }\n",
       "</style>\n",
       "<table border=\"1\" class=\"dataframe\">\n",
       "  <thead>\n",
       "    <tr style=\"text-align: right;\">\n",
       "      <th></th>\n",
       "      <th>Invoice</th>\n",
       "      <th>StockCode</th>\n",
       "      <th>Description</th>\n",
       "      <th>Quantity</th>\n",
       "      <th>InvoiceDate</th>\n",
       "      <th>Price</th>\n",
       "      <th>Customer ID</th>\n",
       "      <th>Country</th>\n",
       "      <th>TotalPrice</th>\n",
       "    </tr>\n",
       "  </thead>\n",
       "  <tbody>\n",
       "    <tr>\n",
       "      <th>0</th>\n",
       "      <td>536365</td>\n",
       "      <td>85123A</td>\n",
       "      <td>WHITE HANGING HEART T-LIGHT HOLDER</td>\n",
       "      <td>6</td>\n",
       "      <td>2010-12-01 08:26:00</td>\n",
       "      <td>2.55000</td>\n",
       "      <td>17850.00000</td>\n",
       "      <td>United Kingdom</td>\n",
       "      <td>15.30000</td>\n",
       "    </tr>\n",
       "    <tr>\n",
       "      <th>1</th>\n",
       "      <td>536365</td>\n",
       "      <td>71053</td>\n",
       "      <td>WHITE METAL LANTERN</td>\n",
       "      <td>6</td>\n",
       "      <td>2010-12-01 08:26:00</td>\n",
       "      <td>3.39000</td>\n",
       "      <td>17850.00000</td>\n",
       "      <td>United Kingdom</td>\n",
       "      <td>20.34000</td>\n",
       "    </tr>\n",
       "    <tr>\n",
       "      <th>2</th>\n",
       "      <td>536365</td>\n",
       "      <td>84406B</td>\n",
       "      <td>CREAM CUPID HEARTS COAT HANGER</td>\n",
       "      <td>8</td>\n",
       "      <td>2010-12-01 08:26:00</td>\n",
       "      <td>2.75000</td>\n",
       "      <td>17850.00000</td>\n",
       "      <td>United Kingdom</td>\n",
       "      <td>22.00000</td>\n",
       "    </tr>\n",
       "    <tr>\n",
       "      <th>3</th>\n",
       "      <td>536365</td>\n",
       "      <td>84029G</td>\n",
       "      <td>KNITTED UNION FLAG HOT WATER BOTTLE</td>\n",
       "      <td>6</td>\n",
       "      <td>2010-12-01 08:26:00</td>\n",
       "      <td>3.39000</td>\n",
       "      <td>17850.00000</td>\n",
       "      <td>United Kingdom</td>\n",
       "      <td>20.34000</td>\n",
       "    </tr>\n",
       "    <tr>\n",
       "      <th>4</th>\n",
       "      <td>536365</td>\n",
       "      <td>84029E</td>\n",
       "      <td>RED WOOLLY HOTTIE WHITE HEART.</td>\n",
       "      <td>6</td>\n",
       "      <td>2010-12-01 08:26:00</td>\n",
       "      <td>3.39000</td>\n",
       "      <td>17850.00000</td>\n",
       "      <td>United Kingdom</td>\n",
       "      <td>20.34000</td>\n",
       "    </tr>\n",
       "  </tbody>\n",
       "</table>\n",
       "</div>"
      ],
      "text/plain": [
       "  Invoice StockCode                          Description  Quantity  \\\n",
       "0  536365    85123A   WHITE HANGING HEART T-LIGHT HOLDER         6   \n",
       "1  536365     71053                  WHITE METAL LANTERN         6   \n",
       "2  536365    84406B       CREAM CUPID HEARTS COAT HANGER         8   \n",
       "3  536365    84029G  KNITTED UNION FLAG HOT WATER BOTTLE         6   \n",
       "4  536365    84029E       RED WOOLLY HOTTIE WHITE HEART.         6   \n",
       "\n",
       "          InvoiceDate   Price  Customer ID         Country  TotalPrice  \n",
       "0 2010-12-01 08:26:00 2.55000  17850.00000  United Kingdom    15.30000  \n",
       "1 2010-12-01 08:26:00 3.39000  17850.00000  United Kingdom    20.34000  \n",
       "2 2010-12-01 08:26:00 2.75000  17850.00000  United Kingdom    22.00000  \n",
       "3 2010-12-01 08:26:00 3.39000  17850.00000  United Kingdom    20.34000  \n",
       "4 2010-12-01 08:26:00 3.39000  17850.00000  United Kingdom    20.34000  "
      ]
     },
     "execution_count": 21,
     "metadata": {},
     "output_type": "execute_result"
    }
   ],
   "source": [
    "df.head() "
   ]
  },
  {
   "cell_type": "code",
   "execution_count": 22,
   "id": "df370673",
   "metadata": {
    "execution": {
     "iopub.execute_input": "2021-10-13T22:09:23.403725Z",
     "iopub.status.busy": "2021-10-13T22:09:23.403092Z",
     "iopub.status.idle": "2021-10-13T22:09:23.500689Z",
     "shell.execute_reply": "2021-10-13T22:09:23.501216Z",
     "shell.execute_reply.started": "2021-09-11T22:37:05.966948Z"
    },
    "papermill": {
     "duration": 0.145168,
     "end_time": "2021-10-13T22:09:23.501384",
     "exception": false,
     "start_time": "2021-10-13T22:09:23.356216",
     "status": "completed"
    },
    "tags": []
   },
   "outputs": [
    {
     "data": {
      "text/html": [
       "<div>\n",
       "<style scoped>\n",
       "    .dataframe tbody tr th:only-of-type {\n",
       "        vertical-align: middle;\n",
       "    }\n",
       "\n",
       "    .dataframe tbody tr th {\n",
       "        vertical-align: top;\n",
       "    }\n",
       "\n",
       "    .dataframe thead th {\n",
       "        text-align: right;\n",
       "    }\n",
       "</style>\n",
       "<table border=\"1\" class=\"dataframe\">\n",
       "  <thead>\n",
       "    <tr style=\"text-align: right;\">\n",
       "      <th></th>\n",
       "      <th>TotalPrice</th>\n",
       "    </tr>\n",
       "    <tr>\n",
       "      <th>Invoice</th>\n",
       "      <th></th>\n",
       "    </tr>\n",
       "  </thead>\n",
       "  <tbody>\n",
       "    <tr>\n",
       "      <th>536365</th>\n",
       "      <td>139.12000</td>\n",
       "    </tr>\n",
       "    <tr>\n",
       "      <th>536366</th>\n",
       "      <td>22.20000</td>\n",
       "    </tr>\n",
       "    <tr>\n",
       "      <th>536367</th>\n",
       "      <td>278.73000</td>\n",
       "    </tr>\n",
       "    <tr>\n",
       "      <th>536368</th>\n",
       "      <td>70.05000</td>\n",
       "    </tr>\n",
       "    <tr>\n",
       "      <th>536369</th>\n",
       "      <td>17.85000</td>\n",
       "    </tr>\n",
       "  </tbody>\n",
       "</table>\n",
       "</div>"
      ],
      "text/plain": [
       "         TotalPrice\n",
       "Invoice            \n",
       "536365    139.12000\n",
       "536366     22.20000\n",
       "536367    278.73000\n",
       "536368     70.05000\n",
       "536369     17.85000"
      ]
     },
     "execution_count": 22,
     "metadata": {},
     "output_type": "execute_result"
    }
   ],
   "source": [
    "#calculated the total amount of money earned per invoice.\n",
    "df.groupby(\"Invoice\").agg({\"TotalPrice\":\"sum\"}).head() "
   ]
  },
  {
   "cell_type": "code",
   "execution_count": 23,
   "id": "46a9c570",
   "metadata": {
    "execution": {
     "iopub.execute_input": "2021-10-13T22:09:23.656821Z",
     "iopub.status.busy": "2021-10-13T22:09:23.656155Z",
     "iopub.status.idle": "2021-10-13T22:09:23.671933Z",
     "shell.execute_reply": "2021-10-13T22:09:23.671320Z",
     "shell.execute_reply.started": "2021-09-11T22:37:06.095839Z"
    },
    "papermill": {
     "duration": 0.125452,
     "end_time": "2021-10-13T22:09:23.672085",
     "exception": false,
     "start_time": "2021-10-13T22:09:23.546633",
     "status": "completed"
    },
    "tags": []
   },
   "outputs": [
    {
     "data": {
      "text/html": [
       "<div>\n",
       "<style scoped>\n",
       "    .dataframe tbody tr th:only-of-type {\n",
       "        vertical-align: middle;\n",
       "    }\n",
       "\n",
       "    .dataframe tbody tr th {\n",
       "        vertical-align: top;\n",
       "    }\n",
       "\n",
       "    .dataframe thead th {\n",
       "        text-align: right;\n",
       "    }\n",
       "</style>\n",
       "<table border=\"1\" class=\"dataframe\">\n",
       "  <thead>\n",
       "    <tr style=\"text-align: right;\">\n",
       "      <th></th>\n",
       "      <th>Price</th>\n",
       "    </tr>\n",
       "    <tr>\n",
       "      <th>Description</th>\n",
       "      <th></th>\n",
       "    </tr>\n",
       "  </thead>\n",
       "  <tbody>\n",
       "    <tr>\n",
       "      <th>Manual</th>\n",
       "      <td>38970.00000</td>\n",
       "    </tr>\n",
       "    <tr>\n",
       "      <th>AMAZON FEE</th>\n",
       "      <td>17836.46000</td>\n",
       "    </tr>\n",
       "    <tr>\n",
       "      <th>Adjust bad debt</th>\n",
       "      <td>11062.06000</td>\n",
       "    </tr>\n",
       "    <tr>\n",
       "      <th>POSTAGE</th>\n",
       "      <td>8142.75000</td>\n",
       "    </tr>\n",
       "    <tr>\n",
       "      <th>DOTCOM POSTAGE</th>\n",
       "      <td>4505.17000</td>\n",
       "    </tr>\n",
       "  </tbody>\n",
       "</table>\n",
       "</div>"
      ],
      "text/plain": [
       "                      Price\n",
       "Description                \n",
       "Manual          38970.00000\n",
       "AMAZON FEE      17836.46000\n",
       "Adjust bad debt 11062.06000\n",
       "POSTAGE          8142.75000\n",
       "DOTCOM POSTAGE   4505.17000"
      ]
     },
     "execution_count": 23,
     "metadata": {},
     "output_type": "execute_result"
    }
   ],
   "source": [
    "df.groupby(\"Description\").agg({\"Price\":\"max\"}).sort_values(\"Price\", ascending = False).head() # what are the most expensive products?"
   ]
  },
  {
   "cell_type": "code",
   "execution_count": 24,
   "id": "216f163c",
   "metadata": {
    "execution": {
     "iopub.execute_input": "2021-10-13T22:09:23.781846Z",
     "iopub.status.busy": "2021-10-13T22:09:23.780440Z",
     "iopub.status.idle": "2021-10-13T22:09:23.932157Z",
     "shell.execute_reply": "2021-10-13T22:09:23.931519Z",
     "shell.execute_reply.started": "2021-09-11T22:37:06.187881Z"
    },
    "papermill": {
     "duration": 0.213655,
     "end_time": "2021-10-13T22:09:23.932296",
     "exception": false,
     "start_time": "2021-10-13T22:09:23.718641",
     "status": "completed"
    },
    "tags": []
   },
   "outputs": [
    {
     "data": {
      "text/html": [
       "<div>\n",
       "<style scoped>\n",
       "    .dataframe tbody tr th:only-of-type {\n",
       "        vertical-align: middle;\n",
       "    }\n",
       "\n",
       "    .dataframe tbody tr th {\n",
       "        vertical-align: top;\n",
       "    }\n",
       "\n",
       "    .dataframe thead th {\n",
       "        text-align: right;\n",
       "    }\n",
       "</style>\n",
       "<table border=\"1\" class=\"dataframe\">\n",
       "  <thead>\n",
       "    <tr style=\"text-align: right;\">\n",
       "      <th></th>\n",
       "      <th>Invoice</th>\n",
       "      <th>StockCode</th>\n",
       "      <th>Description</th>\n",
       "      <th>Quantity</th>\n",
       "      <th>InvoiceDate</th>\n",
       "      <th>Price</th>\n",
       "      <th>Customer ID</th>\n",
       "      <th>Country</th>\n",
       "      <th>TotalPrice</th>\n",
       "    </tr>\n",
       "  </thead>\n",
       "  <tbody>\n",
       "    <tr>\n",
       "      <th>222681</th>\n",
       "      <td>C556445</td>\n",
       "      <td>M</td>\n",
       "      <td>Manual</td>\n",
       "      <td>-1</td>\n",
       "      <td>2011-06-10 15:31:00</td>\n",
       "      <td>38970.00000</td>\n",
       "      <td>15098.00000</td>\n",
       "      <td>United Kingdom</td>\n",
       "      <td>-38970.00000</td>\n",
       "    </tr>\n",
       "    <tr>\n",
       "      <th>524602</th>\n",
       "      <td>C580605</td>\n",
       "      <td>AMAZONFEE</td>\n",
       "      <td>AMAZON FEE</td>\n",
       "      <td>-1</td>\n",
       "      <td>2011-12-05 11:36:00</td>\n",
       "      <td>17836.46000</td>\n",
       "      <td>NaN</td>\n",
       "      <td>United Kingdom</td>\n",
       "      <td>-17836.46000</td>\n",
       "    </tr>\n",
       "    <tr>\n",
       "      <th>43702</th>\n",
       "      <td>C540117</td>\n",
       "      <td>AMAZONFEE</td>\n",
       "      <td>AMAZON FEE</td>\n",
       "      <td>-1</td>\n",
       "      <td>2011-01-05 09:55:00</td>\n",
       "      <td>16888.02000</td>\n",
       "      <td>NaN</td>\n",
       "      <td>United Kingdom</td>\n",
       "      <td>-16888.02000</td>\n",
       "    </tr>\n",
       "    <tr>\n",
       "      <th>43703</th>\n",
       "      <td>C540118</td>\n",
       "      <td>AMAZONFEE</td>\n",
       "      <td>AMAZON FEE</td>\n",
       "      <td>-1</td>\n",
       "      <td>2011-01-05 09:57:00</td>\n",
       "      <td>16453.71000</td>\n",
       "      <td>NaN</td>\n",
       "      <td>United Kingdom</td>\n",
       "      <td>-16453.71000</td>\n",
       "    </tr>\n",
       "    <tr>\n",
       "      <th>15017</th>\n",
       "      <td>537632</td>\n",
       "      <td>AMAZONFEE</td>\n",
       "      <td>AMAZON FEE</td>\n",
       "      <td>1</td>\n",
       "      <td>2010-12-07 15:08:00</td>\n",
       "      <td>13541.33000</td>\n",
       "      <td>NaN</td>\n",
       "      <td>United Kingdom</td>\n",
       "      <td>13541.33000</td>\n",
       "    </tr>\n",
       "  </tbody>\n",
       "</table>\n",
       "</div>"
      ],
      "text/plain": [
       "        Invoice  StockCode Description  Quantity         InvoiceDate  \\\n",
       "222681  C556445          M      Manual        -1 2011-06-10 15:31:00   \n",
       "524602  C580605  AMAZONFEE  AMAZON FEE        -1 2011-12-05 11:36:00   \n",
       "43702   C540117  AMAZONFEE  AMAZON FEE        -1 2011-01-05 09:55:00   \n",
       "43703   C540118  AMAZONFEE  AMAZON FEE        -1 2011-01-05 09:57:00   \n",
       "15017    537632  AMAZONFEE  AMAZON FEE         1 2010-12-07 15:08:00   \n",
       "\n",
       "             Price  Customer ID         Country   TotalPrice  \n",
       "222681 38970.00000  15098.00000  United Kingdom -38970.00000  \n",
       "524602 17836.46000          NaN  United Kingdom -17836.46000  \n",
       "43702  16888.02000          NaN  United Kingdom -16888.02000  \n",
       "43703  16453.71000          NaN  United Kingdom -16453.71000  \n",
       "15017  13541.33000          NaN  United Kingdom  13541.33000  "
      ]
     },
     "execution_count": 24,
     "metadata": {},
     "output_type": "execute_result"
    }
   ],
   "source": [
    "df.sort_values(\"Price\", ascending = False).head() # what are the most expensive products?"
   ]
  },
  {
   "cell_type": "code",
   "execution_count": 25,
   "id": "7a316876",
   "metadata": {
    "execution": {
     "iopub.execute_input": "2021-10-13T22:09:24.092436Z",
     "iopub.status.busy": "2021-10-13T22:09:24.089603Z",
     "iopub.status.idle": "2021-10-13T22:09:24.096222Z",
     "shell.execute_reply": "2021-10-13T22:09:24.095618Z",
     "shell.execute_reply.started": "2021-09-11T22:37:06.411576Z"
    },
    "papermill": {
     "duration": 0.118943,
     "end_time": "2021-10-13T22:09:24.096356",
     "exception": false,
     "start_time": "2021-10-13T22:09:23.977413",
     "status": "completed"
    },
    "tags": []
   },
   "outputs": [
    {
     "data": {
      "text/plain": [
       "Country\n",
       "United Kingdom    495478\n",
       "Germany             9495\n",
       "France              8558\n",
       "EIRE                8196\n",
       "Spain               2533\n",
       "Name: count, dtype: int64"
      ]
     },
     "execution_count": 25,
     "metadata": {},
     "output_type": "execute_result"
    }
   ],
   "source": [
    "df[\"Country\"].value_counts().head()"
   ]
  },
  {
   "cell_type": "code",
   "execution_count": 26,
   "id": "c18e1bfd",
   "metadata": {
    "execution": {
     "iopub.execute_input": "2021-10-13T22:09:24.253614Z",
     "iopub.status.busy": "2021-10-13T22:09:24.252614Z",
     "iopub.status.idle": "2021-10-13T22:09:25.189436Z",
     "shell.execute_reply": "2021-10-13T22:09:25.188902Z",
     "shell.execute_reply.started": "2021-09-11T22:37:06.486526Z"
    },
    "papermill": {
     "duration": 1.047463,
     "end_time": "2021-10-13T22:09:25.189570",
     "exception": false,
     "start_time": "2021-10-13T22:09:24.142107",
     "status": "completed"
    },
    "tags": []
   },
   "outputs": [
    {
     "data": {
      "text/html": [
       "<div>\n",
       "<style scoped>\n",
       "    .dataframe tbody tr th:only-of-type {\n",
       "        vertical-align: middle;\n",
       "    }\n",
       "\n",
       "    .dataframe tbody tr th {\n",
       "        vertical-align: top;\n",
       "    }\n",
       "\n",
       "    .dataframe thead th {\n",
       "        text-align: right;\n",
       "    }\n",
       "</style>\n",
       "<table border=\"1\" class=\"dataframe\">\n",
       "  <thead>\n",
       "    <tr style=\"text-align: right;\">\n",
       "      <th></th>\n",
       "      <th>Invoice</th>\n",
       "      <th>StockCode</th>\n",
       "      <th>Description</th>\n",
       "      <th>Quantity</th>\n",
       "      <th>InvoiceDate</th>\n",
       "      <th>Price</th>\n",
       "      <th>Customer ID</th>\n",
       "      <th>Country</th>\n",
       "      <th>TotalPrice</th>\n",
       "    </tr>\n",
       "  </thead>\n",
       "  <tbody>\n",
       "    <tr>\n",
       "      <th>540422</th>\n",
       "      <td>C581484</td>\n",
       "      <td>23843</td>\n",
       "      <td>PAPER CRAFT , LITTLE BIRDIE</td>\n",
       "      <td>-80995</td>\n",
       "      <td>2011-12-09 09:27:00</td>\n",
       "      <td>2.08000</td>\n",
       "      <td>16446.00000</td>\n",
       "      <td>United Kingdom</td>\n",
       "      <td>-168469.60000</td>\n",
       "    </tr>\n",
       "    <tr>\n",
       "      <th>61624</th>\n",
       "      <td>C541433</td>\n",
       "      <td>23166</td>\n",
       "      <td>MEDIUM CERAMIC TOP STORAGE JAR</td>\n",
       "      <td>-74215</td>\n",
       "      <td>2011-01-18 10:17:00</td>\n",
       "      <td>1.04000</td>\n",
       "      <td>12346.00000</td>\n",
       "      <td>United Kingdom</td>\n",
       "      <td>-77183.60000</td>\n",
       "    </tr>\n",
       "    <tr>\n",
       "      <th>4268</th>\n",
       "      <td>C536757</td>\n",
       "      <td>84347</td>\n",
       "      <td>ROTATING SILVER ANGELS T-LIGHT HLDR</td>\n",
       "      <td>-9360</td>\n",
       "      <td>2010-12-02 14:23:00</td>\n",
       "      <td>0.03000</td>\n",
       "      <td>15838.00000</td>\n",
       "      <td>United Kingdom</td>\n",
       "      <td>-280.80000</td>\n",
       "    </tr>\n",
       "    <tr>\n",
       "      <th>160145</th>\n",
       "      <td>C550456</td>\n",
       "      <td>21108</td>\n",
       "      <td>FAIRY CAKE FLANNEL ASSORTED COLOUR</td>\n",
       "      <td>-3114</td>\n",
       "      <td>2011-04-18 13:08:00</td>\n",
       "      <td>2.10000</td>\n",
       "      <td>15749.00000</td>\n",
       "      <td>United Kingdom</td>\n",
       "      <td>-6539.40000</td>\n",
       "    </tr>\n",
       "    <tr>\n",
       "      <th>160144</th>\n",
       "      <td>C550456</td>\n",
       "      <td>21175</td>\n",
       "      <td>GIN + TONIC DIET METAL SIGN</td>\n",
       "      <td>-2000</td>\n",
       "      <td>2011-04-18 13:08:00</td>\n",
       "      <td>1.85000</td>\n",
       "      <td>15749.00000</td>\n",
       "      <td>United Kingdom</td>\n",
       "      <td>-3700.00000</td>\n",
       "    </tr>\n",
       "  </tbody>\n",
       "</table>\n",
       "</div>"
      ],
      "text/plain": [
       "        Invoice StockCode                          Description  Quantity  \\\n",
       "540422  C581484     23843          PAPER CRAFT , LITTLE BIRDIE    -80995   \n",
       "61624   C541433     23166       MEDIUM CERAMIC TOP STORAGE JAR    -74215   \n",
       "4268    C536757     84347  ROTATING SILVER ANGELS T-LIGHT HLDR     -9360   \n",
       "160145  C550456     21108   FAIRY CAKE FLANNEL ASSORTED COLOUR     -3114   \n",
       "160144  C550456     21175          GIN + TONIC DIET METAL SIGN     -2000   \n",
       "\n",
       "               InvoiceDate   Price  Customer ID         Country    TotalPrice  \n",
       "540422 2011-12-09 09:27:00 2.08000  16446.00000  United Kingdom -168469.60000  \n",
       "61624  2011-01-18 10:17:00 1.04000  12346.00000  United Kingdom  -77183.60000  \n",
       "4268   2010-12-02 14:23:00 0.03000  15838.00000  United Kingdom    -280.80000  \n",
       "160145 2011-04-18 13:08:00 2.10000  15749.00000  United Kingdom   -6539.40000  \n",
       "160144 2011-04-18 13:08:00 1.85000  15749.00000  United Kingdom   -3700.00000  "
      ]
     },
     "execution_count": 26,
     "metadata": {},
     "output_type": "execute_result"
    }
   ],
   "source": [
    "returned = df[df[\"Invoice\"].str.contains(\"C\",na=False)]\n",
    "returned.sort_values(\"Quantity\", ascending = True).head() # which product gets the most returns?"
   ]
  },
  {
   "cell_type": "markdown",
   "id": "26522ea2",
   "metadata": {
    "papermill": {
     "duration": 0.04605,
     "end_time": "2021-10-13T22:09:25.284256",
     "exception": false,
     "start_time": "2021-10-13T22:09:25.238206",
     "status": "completed"
    },
    "tags": []
   },
   "source": [
    "# Incomplete Observation Analysis"
   ]
  },
  {
   "cell_type": "code",
   "execution_count": 27,
   "id": "8bd94131",
   "metadata": {
    "execution": {
     "iopub.execute_input": "2021-10-13T22:09:25.382492Z",
     "iopub.status.busy": "2021-10-13T22:09:25.381333Z",
     "iopub.status.idle": "2021-10-13T22:09:25.628976Z",
     "shell.execute_reply": "2021-10-13T22:09:25.628446Z",
     "shell.execute_reply.started": "2021-09-11T22:37:07.476265Z"
    },
    "papermill": {
     "duration": 0.29845,
     "end_time": "2021-10-13T22:09:25.629137",
     "exception": false,
     "start_time": "2021-10-13T22:09:25.330687",
     "status": "completed"
    },
    "tags": []
   },
   "outputs": [
    {
     "data": {
      "text/plain": [
       "Invoice             0\n",
       "StockCode           0\n",
       "Description      1454\n",
       "Quantity            0\n",
       "InvoiceDate         0\n",
       "Price               0\n",
       "Customer ID    135080\n",
       "Country             0\n",
       "TotalPrice          0\n",
       "dtype: int64"
      ]
     },
     "execution_count": 27,
     "metadata": {},
     "output_type": "execute_result"
    }
   ],
   "source": [
    "df.isnull().sum() #Its asks the question of whether there are any missing observations"
   ]
  },
  {
   "cell_type": "code",
   "execution_count": 28,
   "id": "672fb80e",
   "metadata": {
    "execution": {
     "iopub.execute_input": "2021-10-13T22:09:25.727183Z",
     "iopub.status.busy": "2021-10-13T22:09:25.726491Z",
     "iopub.status.idle": "2021-10-13T22:09:26.807256Z",
     "shell.execute_reply": "2021-10-13T22:09:26.807840Z",
     "shell.execute_reply.started": "2021-09-11T22:37:07.736289Z"
    },
    "papermill": {
     "duration": 1.131505,
     "end_time": "2021-10-13T22:09:26.808012",
     "exception": false,
     "start_time": "2021-10-13T22:09:25.676507",
     "status": "completed"
    },
    "tags": []
   },
   "outputs": [
    {
     "data": {
      "text/html": [
       "<div>\n",
       "<style scoped>\n",
       "    .dataframe tbody tr th:only-of-type {\n",
       "        vertical-align: middle;\n",
       "    }\n",
       "\n",
       "    .dataframe tbody tr th {\n",
       "        vertical-align: top;\n",
       "    }\n",
       "\n",
       "    .dataframe thead th {\n",
       "        text-align: right;\n",
       "    }\n",
       "</style>\n",
       "<table border=\"1\" class=\"dataframe\">\n",
       "  <thead>\n",
       "    <tr style=\"text-align: right;\">\n",
       "      <th></th>\n",
       "      <th>Invoice</th>\n",
       "      <th>StockCode</th>\n",
       "      <th>Description</th>\n",
       "      <th>Quantity</th>\n",
       "      <th>InvoiceDate</th>\n",
       "      <th>Price</th>\n",
       "      <th>Customer ID</th>\n",
       "      <th>Country</th>\n",
       "      <th>TotalPrice</th>\n",
       "    </tr>\n",
       "  </thead>\n",
       "  <tbody>\n",
       "    <tr>\n",
       "      <th>0</th>\n",
       "      <td>536365</td>\n",
       "      <td>85123A</td>\n",
       "      <td>WHITE HANGING HEART T-LIGHT HOLDER</td>\n",
       "      <td>6</td>\n",
       "      <td>2010-12-01 08:26:00</td>\n",
       "      <td>2.55000</td>\n",
       "      <td>17850.00000</td>\n",
       "      <td>United Kingdom</td>\n",
       "      <td>15.30000</td>\n",
       "    </tr>\n",
       "    <tr>\n",
       "      <th>1</th>\n",
       "      <td>536365</td>\n",
       "      <td>71053</td>\n",
       "      <td>WHITE METAL LANTERN</td>\n",
       "      <td>6</td>\n",
       "      <td>2010-12-01 08:26:00</td>\n",
       "      <td>3.39000</td>\n",
       "      <td>17850.00000</td>\n",
       "      <td>United Kingdom</td>\n",
       "      <td>20.34000</td>\n",
       "    </tr>\n",
       "    <tr>\n",
       "      <th>2</th>\n",
       "      <td>536365</td>\n",
       "      <td>84406B</td>\n",
       "      <td>CREAM CUPID HEARTS COAT HANGER</td>\n",
       "      <td>8</td>\n",
       "      <td>2010-12-01 08:26:00</td>\n",
       "      <td>2.75000</td>\n",
       "      <td>17850.00000</td>\n",
       "      <td>United Kingdom</td>\n",
       "      <td>22.00000</td>\n",
       "    </tr>\n",
       "    <tr>\n",
       "      <th>3</th>\n",
       "      <td>536365</td>\n",
       "      <td>84029G</td>\n",
       "      <td>KNITTED UNION FLAG HOT WATER BOTTLE</td>\n",
       "      <td>6</td>\n",
       "      <td>2010-12-01 08:26:00</td>\n",
       "      <td>3.39000</td>\n",
       "      <td>17850.00000</td>\n",
       "      <td>United Kingdom</td>\n",
       "      <td>20.34000</td>\n",
       "    </tr>\n",
       "    <tr>\n",
       "      <th>4</th>\n",
       "      <td>536365</td>\n",
       "      <td>84029E</td>\n",
       "      <td>RED WOOLLY HOTTIE WHITE HEART.</td>\n",
       "      <td>6</td>\n",
       "      <td>2010-12-01 08:26:00</td>\n",
       "      <td>3.39000</td>\n",
       "      <td>17850.00000</td>\n",
       "      <td>United Kingdom</td>\n",
       "      <td>20.34000</td>\n",
       "    </tr>\n",
       "  </tbody>\n",
       "</table>\n",
       "</div>"
      ],
      "text/plain": [
       "  Invoice StockCode                          Description  Quantity  \\\n",
       "0  536365    85123A   WHITE HANGING HEART T-LIGHT HOLDER         6   \n",
       "1  536365     71053                  WHITE METAL LANTERN         6   \n",
       "2  536365    84406B       CREAM CUPID HEARTS COAT HANGER         8   \n",
       "3  536365    84029G  KNITTED UNION FLAG HOT WATER BOTTLE         6   \n",
       "4  536365    84029E       RED WOOLLY HOTTIE WHITE HEART.         6   \n",
       "\n",
       "          InvoiceDate   Price  Customer ID         Country  TotalPrice  \n",
       "0 2010-12-01 08:26:00 2.55000  17850.00000  United Kingdom    15.30000  \n",
       "1 2010-12-01 08:26:00 3.39000  17850.00000  United Kingdom    20.34000  \n",
       "2 2010-12-01 08:26:00 2.75000  17850.00000  United Kingdom    22.00000  \n",
       "3 2010-12-01 08:26:00 3.39000  17850.00000  United Kingdom    20.34000  \n",
       "4 2010-12-01 08:26:00 3.39000  17850.00000  United Kingdom    20.34000  "
      ]
     },
     "execution_count": 28,
     "metadata": {},
     "output_type": "execute_result"
    }
   ],
   "source": [
    "df.dropna(inplace=True) #erases incomplete observations.\n",
    "\n",
    "df = df[~df[\"Invoice\"].str.contains(\"C\", na=False)]\n",
    "df = df[(df['Quantity'] > 0)]\n",
    "df = df[(df['Price'] > 0)]\n",
    "\n",
    "df.head()\n"
   ]
  },
  {
   "cell_type": "markdown",
   "id": "4fb2313f",
   "metadata": {
    "papermill": {
     "duration": 0.050107,
     "end_time": "2021-10-13T22:09:26.905745",
     "exception": false,
     "start_time": "2021-10-13T22:09:26.855638",
     "status": "completed"
    },
    "tags": []
   },
   "source": [
    "# Customer Segmentation"
   ]
  },
  {
   "cell_type": "code",
   "execution_count": 29,
   "id": "d8a5169b",
   "metadata": {
    "execution": {
     "iopub.execute_input": "2021-10-13T22:09:27.004559Z",
     "iopub.status.busy": "2021-10-13T22:09:27.003914Z",
     "iopub.status.idle": "2021-10-13T22:09:27.010775Z",
     "shell.execute_reply": "2021-10-13T22:09:27.011284Z",
     "shell.execute_reply.started": "2021-09-11T22:37:08.883994Z"
    },
    "papermill": {
     "duration": 0.057843,
     "end_time": "2021-10-13T22:09:27.011445",
     "exception": false,
     "start_time": "2021-10-13T22:09:26.953602",
     "status": "completed"
    },
    "tags": []
   },
   "outputs": [],
   "source": [
    "df[\"TotalPrice\"] = df[\"Quantity\"] * df[\"Price\"]"
   ]
  },
  {
   "cell_type": "code",
   "execution_count": 30,
   "id": "8a8d32b8",
   "metadata": {
    "execution": {
     "iopub.execute_input": "2021-10-13T22:09:27.109863Z",
     "iopub.status.busy": "2021-10-13T22:09:27.109255Z",
     "iopub.status.idle": "2021-10-13T22:09:27.115935Z",
     "shell.execute_reply": "2021-10-13T22:09:27.116498Z",
     "shell.execute_reply.started": "2021-09-11T22:37:08.897374Z"
    },
    "papermill": {
     "duration": 0.057789,
     "end_time": "2021-10-13T22:09:27.116663",
     "exception": false,
     "start_time": "2021-10-13T22:09:27.058874",
     "status": "completed"
    },
    "tags": []
   },
   "outputs": [
    {
     "data": {
      "text/plain": [
       "Timestamp('2011-12-09 12:50:00')"
      ]
     },
     "execution_count": 30,
     "metadata": {},
     "output_type": "execute_result"
    }
   ],
   "source": [
    "df[\"InvoiceDate\"].max()"
   ]
  },
  {
   "cell_type": "code",
   "execution_count": 31,
   "id": "8a0fa139",
   "metadata": {
    "execution": {
     "iopub.execute_input": "2021-10-13T22:09:27.216365Z",
     "iopub.status.busy": "2021-10-13T22:09:27.215715Z",
     "iopub.status.idle": "2021-10-13T22:09:28.370266Z",
     "shell.execute_reply": "2021-10-13T22:09:28.369624Z",
     "shell.execute_reply.started": "2021-09-11T22:37:08.911541Z"
    },
    "papermill": {
     "duration": 1.205639,
     "end_time": "2021-10-13T22:09:28.370408",
     "exception": false,
     "start_time": "2021-10-13T22:09:27.164769",
     "status": "completed"
    },
    "tags": []
   },
   "outputs": [
    {
     "data": {
      "text/html": [
       "<div>\n",
       "<style scoped>\n",
       "    .dataframe tbody tr th:only-of-type {\n",
       "        vertical-align: middle;\n",
       "    }\n",
       "\n",
       "    .dataframe tbody tr th {\n",
       "        vertical-align: top;\n",
       "    }\n",
       "\n",
       "    .dataframe thead th {\n",
       "        text-align: right;\n",
       "    }\n",
       "</style>\n",
       "<table border=\"1\" class=\"dataframe\">\n",
       "  <thead>\n",
       "    <tr style=\"text-align: right;\">\n",
       "      <th></th>\n",
       "      <th>InvoiceDate</th>\n",
       "      <th>Invoice</th>\n",
       "      <th>TotalPrice</th>\n",
       "    </tr>\n",
       "    <tr>\n",
       "      <th>Customer ID</th>\n",
       "      <th></th>\n",
       "      <th></th>\n",
       "      <th></th>\n",
       "    </tr>\n",
       "  </thead>\n",
       "  <tbody>\n",
       "    <tr>\n",
       "      <th>12346.00000</th>\n",
       "      <td>326</td>\n",
       "      <td>1</td>\n",
       "      <td>77183.60000</td>\n",
       "    </tr>\n",
       "    <tr>\n",
       "      <th>12347.00000</th>\n",
       "      <td>3</td>\n",
       "      <td>7</td>\n",
       "      <td>4310.00000</td>\n",
       "    </tr>\n",
       "    <tr>\n",
       "      <th>12348.00000</th>\n",
       "      <td>76</td>\n",
       "      <td>4</td>\n",
       "      <td>1797.24000</td>\n",
       "    </tr>\n",
       "    <tr>\n",
       "      <th>12349.00000</th>\n",
       "      <td>19</td>\n",
       "      <td>1</td>\n",
       "      <td>1757.55000</td>\n",
       "    </tr>\n",
       "    <tr>\n",
       "      <th>12350.00000</th>\n",
       "      <td>311</td>\n",
       "      <td>1</td>\n",
       "      <td>334.40000</td>\n",
       "    </tr>\n",
       "  </tbody>\n",
       "</table>\n",
       "</div>"
      ],
      "text/plain": [
       "             InvoiceDate  Invoice  TotalPrice\n",
       "Customer ID                                  \n",
       "12346.00000          326        1 77183.60000\n",
       "12347.00000            3        7  4310.00000\n",
       "12348.00000           76        4  1797.24000\n",
       "12349.00000           19        1  1757.55000\n",
       "12350.00000          311        1   334.40000"
      ]
     },
     "execution_count": 31,
     "metadata": {},
     "output_type": "execute_result"
    }
   ],
   "source": [
    "today_date = dt.datetime(2011, 12, 11)\n",
    "\n",
    "\n",
    "rfm = df.groupby('Customer ID').agg({'InvoiceDate': lambda InvoiceDate: (today_date - InvoiceDate.max()).days,\n",
    "                                     'Invoice': lambda Invoice: Invoice.nunique(),\n",
    "                                     'TotalPrice': lambda TotalPrice: TotalPrice.sum()})\n",
    "\n",
    "rfm.head()"
   ]
  },
  {
   "cell_type": "code",
   "execution_count": 32,
   "id": "7d4b5b45",
   "metadata": {
    "execution": {
     "iopub.execute_input": "2021-10-13T22:09:28.470456Z",
     "iopub.status.busy": "2021-10-13T22:09:28.469791Z",
     "iopub.status.idle": "2021-10-13T22:09:28.473758Z",
     "shell.execute_reply": "2021-10-13T22:09:28.473290Z",
     "shell.execute_reply.started": "2021-09-11T22:37:10.087852Z"
    },
    "papermill": {
     "duration": 0.055293,
     "end_time": "2021-10-13T22:09:28.473904",
     "exception": false,
     "start_time": "2021-10-13T22:09:28.418611",
     "status": "completed"
    },
    "tags": []
   },
   "outputs": [],
   "source": [
    "rfm.columns = ['recency', 'frequency', 'monetary']"
   ]
  },
  {
   "cell_type": "code",
   "execution_count": 33,
   "id": "c9dfd0cf",
   "metadata": {
    "execution": {
     "iopub.execute_input": "2021-10-13T22:09:28.573802Z",
     "iopub.status.busy": "2021-10-13T22:09:28.573205Z",
     "iopub.status.idle": "2021-10-13T22:09:28.586657Z",
     "shell.execute_reply": "2021-10-13T22:09:28.587152Z",
     "shell.execute_reply.started": "2021-09-11T22:37:10.09476Z"
    },
    "papermill": {
     "duration": 0.064941,
     "end_time": "2021-10-13T22:09:28.587319",
     "exception": false,
     "start_time": "2021-10-13T22:09:28.522378",
     "status": "completed"
    },
    "tags": []
   },
   "outputs": [],
   "source": [
    "rfm[\"recency_score\"] = pd.qcut(rfm['recency'], 5, labels=[5, 4, 3, 2, 1])\n",
    "\n",
    "\n",
    "rfm[\"frequency_score\"] = pd.qcut(rfm['frequency'].rank(method=\"first\"), 5, labels=[1, 2, 3, 4, 5])"
   ]
  },
  {
   "cell_type": "code",
   "execution_count": 34,
   "id": "cc859411",
   "metadata": {
    "execution": {
     "iopub.execute_input": "2021-10-13T22:09:28.688289Z",
     "iopub.status.busy": "2021-10-13T22:09:28.687646Z",
     "iopub.status.idle": "2021-10-13T22:09:28.719858Z",
     "shell.execute_reply": "2021-10-13T22:09:28.719341Z",
     "shell.execute_reply.started": "2021-09-11T22:37:10.130147Z"
    },
    "papermill": {
     "duration": 0.08401,
     "end_time": "2021-10-13T22:09:28.719991",
     "exception": false,
     "start_time": "2021-10-13T22:09:28.635981",
     "status": "completed"
    },
    "tags": []
   },
   "outputs": [
    {
     "data": {
      "text/html": [
       "<div>\n",
       "<style scoped>\n",
       "    .dataframe tbody tr th:only-of-type {\n",
       "        vertical-align: middle;\n",
       "    }\n",
       "\n",
       "    .dataframe tbody tr th {\n",
       "        vertical-align: top;\n",
       "    }\n",
       "\n",
       "    .dataframe thead th {\n",
       "        text-align: right;\n",
       "    }\n",
       "</style>\n",
       "<table border=\"1\" class=\"dataframe\">\n",
       "  <thead>\n",
       "    <tr style=\"text-align: right;\">\n",
       "      <th></th>\n",
       "      <th>recency</th>\n",
       "      <th>frequency</th>\n",
       "      <th>monetary</th>\n",
       "      <th>recency_score</th>\n",
       "      <th>frequency_score</th>\n",
       "      <th>monetary_score</th>\n",
       "      <th>RFM_SCORE</th>\n",
       "    </tr>\n",
       "    <tr>\n",
       "      <th>Customer ID</th>\n",
       "      <th></th>\n",
       "      <th></th>\n",
       "      <th></th>\n",
       "      <th></th>\n",
       "      <th></th>\n",
       "      <th></th>\n",
       "      <th></th>\n",
       "    </tr>\n",
       "  </thead>\n",
       "  <tbody>\n",
       "    <tr>\n",
       "      <th>12346.00000</th>\n",
       "      <td>326</td>\n",
       "      <td>1</td>\n",
       "      <td>77183.60000</td>\n",
       "      <td>1</td>\n",
       "      <td>1</td>\n",
       "      <td>5</td>\n",
       "      <td>11</td>\n",
       "    </tr>\n",
       "    <tr>\n",
       "      <th>12350.00000</th>\n",
       "      <td>311</td>\n",
       "      <td>1</td>\n",
       "      <td>334.40000</td>\n",
       "      <td>1</td>\n",
       "      <td>1</td>\n",
       "      <td>2</td>\n",
       "      <td>11</td>\n",
       "    </tr>\n",
       "    <tr>\n",
       "      <th>12353.00000</th>\n",
       "      <td>205</td>\n",
       "      <td>1</td>\n",
       "      <td>89.00000</td>\n",
       "      <td>1</td>\n",
       "      <td>1</td>\n",
       "      <td>1</td>\n",
       "      <td>11</td>\n",
       "    </tr>\n",
       "    <tr>\n",
       "      <th>12354.00000</th>\n",
       "      <td>233</td>\n",
       "      <td>1</td>\n",
       "      <td>1079.40000</td>\n",
       "      <td>1</td>\n",
       "      <td>1</td>\n",
       "      <td>4</td>\n",
       "      <td>11</td>\n",
       "    </tr>\n",
       "    <tr>\n",
       "      <th>12355.00000</th>\n",
       "      <td>215</td>\n",
       "      <td>1</td>\n",
       "      <td>459.40000</td>\n",
       "      <td>1</td>\n",
       "      <td>1</td>\n",
       "      <td>2</td>\n",
       "      <td>11</td>\n",
       "    </tr>\n",
       "  </tbody>\n",
       "</table>\n",
       "</div>"
      ],
      "text/plain": [
       "             recency  frequency    monetary recency_score frequency_score  \\\n",
       "Customer ID                                                                 \n",
       "12346.00000      326          1 77183.60000             1               1   \n",
       "12350.00000      311          1   334.40000             1               1   \n",
       "12353.00000      205          1    89.00000             1               1   \n",
       "12354.00000      233          1  1079.40000             1               1   \n",
       "12355.00000      215          1   459.40000             1               1   \n",
       "\n",
       "            monetary_score RFM_SCORE  \n",
       "Customer ID                           \n",
       "12346.00000              5        11  \n",
       "12350.00000              2        11  \n",
       "12353.00000              1        11  \n",
       "12354.00000              4        11  \n",
       "12355.00000              2        11  "
      ]
     },
     "execution_count": 34,
     "metadata": {},
     "output_type": "execute_result"
    }
   ],
   "source": [
    "rfm[\"monetary_score\"] = pd.qcut(rfm['monetary'], 5, labels=[1, 2, 3, 4, 5])\n",
    "\n",
    "rfm[\"RFM_SCORE\"] = (rfm['recency_score'].astype(str) +\n",
    "                    rfm['frequency_score'].astype(str))\n",
    "\n",
    "rfm.head()\n",
    "\n",
    "rfm.describe().T\n",
    "\n",
    "rfm[rfm[\"RFM_SCORE\"] == \"55\"].head()\n",
    "\n",
    "rfm[rfm[\"RFM_SCORE\"] == \"11\"].head()"
   ]
  },
  {
   "cell_type": "code",
   "execution_count": 35,
   "id": "530ad587",
   "metadata": {
    "execution": {
     "iopub.execute_input": "2021-10-13T22:09:28.821308Z",
     "iopub.status.busy": "2021-10-13T22:09:28.820611Z",
     "iopub.status.idle": "2021-10-13T22:09:28.825447Z",
     "shell.execute_reply": "2021-10-13T22:09:28.826041Z",
     "shell.execute_reply.started": "2021-09-11T22:37:10.173503Z"
    },
    "papermill": {
     "duration": 0.057318,
     "end_time": "2021-10-13T22:09:28.826233",
     "exception": false,
     "start_time": "2021-10-13T22:09:28.768915",
     "status": "completed"
    },
    "tags": []
   },
   "outputs": [],
   "source": [
    "seg_map = {\n",
    "    r'[1-2][1-2]': 'hibernating',\n",
    "    r'[1-2][3-4]': 'at_Risk',\n",
    "    r'[1-2]5': 'cant_loose',\n",
    "    r'3[1-2]': 'about_to_sleep',\n",
    "    r'33': 'need_attention',\n",
    "    r'[3-4][4-5]': 'loyal_customers',\n",
    "    r'41': 'promising',\n",
    "    r'51': 'new_customers',\n",
    "    r'[4-5][2-3]': 'potential_loyalists',\n",
    "    r'5[4-5]': 'champions'\n",
    "}\n",
    "# Here classes are assigned according to rfm scores. Below is the December score for these classes.\n",
    "# As an example, the Hibernating class has the following score values.\n",
    "# The Recency value is 1-2, the Frequency value is 1-2, which is read this way in other classes.\n",
    "#The reason why only Recency and Frequency are added here is because only these two parameters are included in the table, but Monetary can also be added to them."
   ]
  },
  {
   "cell_type": "code",
   "execution_count": 36,
   "id": "acfbc54c",
   "metadata": {
    "execution": {
     "iopub.execute_input": "2021-10-13T22:09:28.932740Z",
     "iopub.status.busy": "2021-10-13T22:09:28.932096Z",
     "iopub.status.idle": "2021-10-13T22:09:29.028219Z",
     "shell.execute_reply": "2021-10-13T22:09:29.027645Z",
     "shell.execute_reply.started": "2021-09-11T22:37:10.183309Z"
    },
    "papermill": {
     "duration": 0.151435,
     "end_time": "2021-10-13T22:09:29.028363",
     "exception": false,
     "start_time": "2021-10-13T22:09:28.876928",
     "status": "completed"
    },
    "tags": []
   },
   "outputs": [
    {
     "data": {
      "text/html": [
       "<div>\n",
       "<style scoped>\n",
       "    .dataframe tbody tr th:only-of-type {\n",
       "        vertical-align: middle;\n",
       "    }\n",
       "\n",
       "    .dataframe tbody tr th {\n",
       "        vertical-align: top;\n",
       "    }\n",
       "\n",
       "    .dataframe thead th {\n",
       "        text-align: right;\n",
       "    }\n",
       "</style>\n",
       "<table border=\"1\" class=\"dataframe\">\n",
       "  <thead>\n",
       "    <tr style=\"text-align: right;\">\n",
       "      <th></th>\n",
       "      <th>recency</th>\n",
       "      <th>frequency</th>\n",
       "      <th>monetary</th>\n",
       "      <th>recency_score</th>\n",
       "      <th>frequency_score</th>\n",
       "      <th>monetary_score</th>\n",
       "      <th>RFM_SCORE</th>\n",
       "      <th>segment</th>\n",
       "    </tr>\n",
       "    <tr>\n",
       "      <th>Customer ID</th>\n",
       "      <th></th>\n",
       "      <th></th>\n",
       "      <th></th>\n",
       "      <th></th>\n",
       "      <th></th>\n",
       "      <th></th>\n",
       "      <th></th>\n",
       "      <th></th>\n",
       "    </tr>\n",
       "  </thead>\n",
       "  <tbody>\n",
       "    <tr>\n",
       "      <th>12346.00000</th>\n",
       "      <td>326</td>\n",
       "      <td>1</td>\n",
       "      <td>77183.60000</td>\n",
       "      <td>1</td>\n",
       "      <td>1</td>\n",
       "      <td>5</td>\n",
       "      <td>11</td>\n",
       "      <td>hibernating</td>\n",
       "    </tr>\n",
       "    <tr>\n",
       "      <th>12347.00000</th>\n",
       "      <td>3</td>\n",
       "      <td>7</td>\n",
       "      <td>4310.00000</td>\n",
       "      <td>5</td>\n",
       "      <td>5</td>\n",
       "      <td>5</td>\n",
       "      <td>55</td>\n",
       "      <td>champions</td>\n",
       "    </tr>\n",
       "    <tr>\n",
       "      <th>12348.00000</th>\n",
       "      <td>76</td>\n",
       "      <td>4</td>\n",
       "      <td>1797.24000</td>\n",
       "      <td>2</td>\n",
       "      <td>4</td>\n",
       "      <td>4</td>\n",
       "      <td>24</td>\n",
       "      <td>at_Risk</td>\n",
       "    </tr>\n",
       "    <tr>\n",
       "      <th>12349.00000</th>\n",
       "      <td>19</td>\n",
       "      <td>1</td>\n",
       "      <td>1757.55000</td>\n",
       "      <td>4</td>\n",
       "      <td>1</td>\n",
       "      <td>4</td>\n",
       "      <td>41</td>\n",
       "      <td>promising</td>\n",
       "    </tr>\n",
       "    <tr>\n",
       "      <th>12350.00000</th>\n",
       "      <td>311</td>\n",
       "      <td>1</td>\n",
       "      <td>334.40000</td>\n",
       "      <td>1</td>\n",
       "      <td>1</td>\n",
       "      <td>2</td>\n",
       "      <td>11</td>\n",
       "      <td>hibernating</td>\n",
       "    </tr>\n",
       "  </tbody>\n",
       "</table>\n",
       "</div>"
      ],
      "text/plain": [
       "             recency  frequency    monetary recency_score frequency_score  \\\n",
       "Customer ID                                                                 \n",
       "12346.00000      326          1 77183.60000             1               1   \n",
       "12347.00000        3          7  4310.00000             5               5   \n",
       "12348.00000       76          4  1797.24000             2               4   \n",
       "12349.00000       19          1  1757.55000             4               1   \n",
       "12350.00000      311          1   334.40000             1               1   \n",
       "\n",
       "            monetary_score RFM_SCORE      segment  \n",
       "Customer ID                                        \n",
       "12346.00000              5        11  hibernating  \n",
       "12347.00000              5        55    champions  \n",
       "12348.00000              4        24      at_Risk  \n",
       "12349.00000              4        41    promising  \n",
       "12350.00000              2        11  hibernating  "
      ]
     },
     "execution_count": 36,
     "metadata": {},
     "output_type": "execute_result"
    }
   ],
   "source": [
    "rfm['segment'] = rfm['RFM_SCORE'].replace(seg_map, regex=True)\n",
    "\n",
    "rfm.head()"
   ]
  },
  {
   "cell_type": "code",
   "execution_count": 37,
   "id": "8f171264",
   "metadata": {
    "execution": {
     "iopub.execute_input": "2021-10-13T22:09:29.131373Z",
     "iopub.status.busy": "2021-10-13T22:09:29.130723Z",
     "iopub.status.idle": "2021-10-13T22:09:29.153558Z",
     "shell.execute_reply": "2021-10-13T22:09:29.152911Z",
     "shell.execute_reply.started": "2021-09-11T22:37:10.299882Z"
    },
    "papermill": {
     "duration": 0.075235,
     "end_time": "2021-10-13T22:09:29.153707",
     "exception": false,
     "start_time": "2021-10-13T22:09:29.078472",
     "status": "completed"
    },
    "tags": []
   },
   "outputs": [
    {
     "data": {
      "text/html": [
       "<div>\n",
       "<style scoped>\n",
       "    .dataframe tbody tr th:only-of-type {\n",
       "        vertical-align: middle;\n",
       "    }\n",
       "\n",
       "    .dataframe tbody tr th {\n",
       "        vertical-align: top;\n",
       "    }\n",
       "\n",
       "    .dataframe thead tr th {\n",
       "        text-align: left;\n",
       "    }\n",
       "\n",
       "    .dataframe thead tr:last-of-type th {\n",
       "        text-align: right;\n",
       "    }\n",
       "</style>\n",
       "<table border=\"1\" class=\"dataframe\">\n",
       "  <thead>\n",
       "    <tr>\n",
       "      <th></th>\n",
       "      <th colspan=\"2\" halign=\"left\">recency</th>\n",
       "      <th colspan=\"2\" halign=\"left\">frequency</th>\n",
       "      <th colspan=\"2\" halign=\"left\">monetary</th>\n",
       "    </tr>\n",
       "    <tr>\n",
       "      <th></th>\n",
       "      <th>mean</th>\n",
       "      <th>count</th>\n",
       "      <th>mean</th>\n",
       "      <th>count</th>\n",
       "      <th>mean</th>\n",
       "      <th>count</th>\n",
       "    </tr>\n",
       "    <tr>\n",
       "      <th>segment</th>\n",
       "      <th></th>\n",
       "      <th></th>\n",
       "      <th></th>\n",
       "      <th></th>\n",
       "      <th></th>\n",
       "      <th></th>\n",
       "    </tr>\n",
       "  </thead>\n",
       "  <tbody>\n",
       "    <tr>\n",
       "      <th>about_to_sleep</th>\n",
       "      <td>53.31250</td>\n",
       "      <td>352</td>\n",
       "      <td>1.16193</td>\n",
       "      <td>352</td>\n",
       "      <td>471.99437</td>\n",
       "      <td>352</td>\n",
       "    </tr>\n",
       "    <tr>\n",
       "      <th>at_Risk</th>\n",
       "      <td>153.78583</td>\n",
       "      <td>593</td>\n",
       "      <td>2.87690</td>\n",
       "      <td>593</td>\n",
       "      <td>1084.53530</td>\n",
       "      <td>593</td>\n",
       "    </tr>\n",
       "    <tr>\n",
       "      <th>cant_loose</th>\n",
       "      <td>132.96825</td>\n",
       "      <td>63</td>\n",
       "      <td>8.38095</td>\n",
       "      <td>63</td>\n",
       "      <td>2796.15587</td>\n",
       "      <td>63</td>\n",
       "    </tr>\n",
       "    <tr>\n",
       "      <th>champions</th>\n",
       "      <td>6.36177</td>\n",
       "      <td>633</td>\n",
       "      <td>12.41390</td>\n",
       "      <td>633</td>\n",
       "      <td>6857.96392</td>\n",
       "      <td>633</td>\n",
       "    </tr>\n",
       "    <tr>\n",
       "      <th>hibernating</th>\n",
       "      <td>217.60504</td>\n",
       "      <td>1071</td>\n",
       "      <td>1.10177</td>\n",
       "      <td>1071</td>\n",
       "      <td>488.64331</td>\n",
       "      <td>1071</td>\n",
       "    </tr>\n",
       "    <tr>\n",
       "      <th>loyal_customers</th>\n",
       "      <td>33.60806</td>\n",
       "      <td>819</td>\n",
       "      <td>6.47985</td>\n",
       "      <td>819</td>\n",
       "      <td>2864.24779</td>\n",
       "      <td>819</td>\n",
       "    </tr>\n",
       "    <tr>\n",
       "      <th>need_attention</th>\n",
       "      <td>52.42781</td>\n",
       "      <td>187</td>\n",
       "      <td>2.32620</td>\n",
       "      <td>187</td>\n",
       "      <td>897.62786</td>\n",
       "      <td>187</td>\n",
       "    </tr>\n",
       "    <tr>\n",
       "      <th>new_customers</th>\n",
       "      <td>7.42857</td>\n",
       "      <td>42</td>\n",
       "      <td>1.00000</td>\n",
       "      <td>42</td>\n",
       "      <td>388.21286</td>\n",
       "      <td>42</td>\n",
       "    </tr>\n",
       "    <tr>\n",
       "      <th>potential_loyalists</th>\n",
       "      <td>17.39876</td>\n",
       "      <td>484</td>\n",
       "      <td>2.01033</td>\n",
       "      <td>484</td>\n",
       "      <td>1041.22200</td>\n",
       "      <td>484</td>\n",
       "    </tr>\n",
       "    <tr>\n",
       "      <th>promising</th>\n",
       "      <td>23.51064</td>\n",
       "      <td>94</td>\n",
       "      <td>1.00000</td>\n",
       "      <td>94</td>\n",
       "      <td>294.00798</td>\n",
       "      <td>94</td>\n",
       "    </tr>\n",
       "  </tbody>\n",
       "</table>\n",
       "</div>"
      ],
      "text/plain": [
       "                      recency       frequency         monetary      \n",
       "                         mean count      mean count       mean count\n",
       "segment                                                             \n",
       "about_to_sleep       53.31250   352   1.16193   352  471.99437   352\n",
       "at_Risk             153.78583   593   2.87690   593 1084.53530   593\n",
       "cant_loose          132.96825    63   8.38095    63 2796.15587    63\n",
       "champions             6.36177   633  12.41390   633 6857.96392   633\n",
       "hibernating         217.60504  1071   1.10177  1071  488.64331  1071\n",
       "loyal_customers      33.60806   819   6.47985   819 2864.24779   819\n",
       "need_attention       52.42781   187   2.32620   187  897.62786   187\n",
       "new_customers         7.42857    42   1.00000    42  388.21286    42\n",
       "potential_loyalists  17.39876   484   2.01033   484 1041.22200   484\n",
       "promising            23.51064    94   1.00000    94  294.00798    94"
      ]
     },
     "execution_count": 37,
     "metadata": {},
     "output_type": "execute_result"
    }
   ],
   "source": [
    "rfm[[\"segment\", \"recency\", \"frequency\", \"monetary\"]].groupby(\"segment\").agg([\"mean\", \"count\"])"
   ]
  },
  {
   "cell_type": "code",
   "execution_count": 38,
   "id": "84655403",
   "metadata": {
    "execution": {
     "iopub.execute_input": "2021-10-13T22:09:29.268737Z",
     "iopub.status.busy": "2021-10-13T22:09:29.268087Z",
     "iopub.status.idle": "2021-10-13T22:09:29.270676Z",
     "shell.execute_reply": "2021-10-13T22:09:29.271168Z",
     "shell.execute_reply.started": "2021-09-11T22:37:10.330929Z"
    },
    "papermill": {
     "duration": 0.067884,
     "end_time": "2021-10-13T22:09:29.271328",
     "exception": false,
     "start_time": "2021-10-13T22:09:29.203444",
     "status": "completed"
    },
    "tags": []
   },
   "outputs": [
    {
     "data": {
      "text/html": [
       "<div>\n",
       "<style scoped>\n",
       "    .dataframe tbody tr th:only-of-type {\n",
       "        vertical-align: middle;\n",
       "    }\n",
       "\n",
       "    .dataframe tbody tr th {\n",
       "        vertical-align: top;\n",
       "    }\n",
       "\n",
       "    .dataframe thead th {\n",
       "        text-align: right;\n",
       "    }\n",
       "</style>\n",
       "<table border=\"1\" class=\"dataframe\">\n",
       "  <thead>\n",
       "    <tr style=\"text-align: right;\">\n",
       "      <th></th>\n",
       "      <th>recency</th>\n",
       "      <th>frequency</th>\n",
       "      <th>monetary</th>\n",
       "      <th>recency_score</th>\n",
       "      <th>frequency_score</th>\n",
       "      <th>monetary_score</th>\n",
       "      <th>RFM_SCORE</th>\n",
       "      <th>segment</th>\n",
       "    </tr>\n",
       "    <tr>\n",
       "      <th>Customer ID</th>\n",
       "      <th></th>\n",
       "      <th></th>\n",
       "      <th></th>\n",
       "      <th></th>\n",
       "      <th></th>\n",
       "      <th></th>\n",
       "      <th></th>\n",
       "      <th></th>\n",
       "    </tr>\n",
       "  </thead>\n",
       "  <tbody>\n",
       "    <tr>\n",
       "      <th>12360.00000</th>\n",
       "      <td>53</td>\n",
       "      <td>3</td>\n",
       "      <td>2662.06000</td>\n",
       "      <td>3</td>\n",
       "      <td>3</td>\n",
       "      <td>5</td>\n",
       "      <td>33</td>\n",
       "      <td>need_attention</td>\n",
       "    </tr>\n",
       "    <tr>\n",
       "      <th>12372.00000</th>\n",
       "      <td>72</td>\n",
       "      <td>3</td>\n",
       "      <td>1298.04000</td>\n",
       "      <td>3</td>\n",
       "      <td>3</td>\n",
       "      <td>4</td>\n",
       "      <td>33</td>\n",
       "      <td>need_attention</td>\n",
       "    </tr>\n",
       "    <tr>\n",
       "      <th>12413.00000</th>\n",
       "      <td>67</td>\n",
       "      <td>3</td>\n",
       "      <td>758.10000</td>\n",
       "      <td>3</td>\n",
       "      <td>3</td>\n",
       "      <td>3</td>\n",
       "      <td>33</td>\n",
       "      <td>need_attention</td>\n",
       "    </tr>\n",
       "    <tr>\n",
       "      <th>12456.00000</th>\n",
       "      <td>45</td>\n",
       "      <td>3</td>\n",
       "      <td>3181.04000</td>\n",
       "      <td>3</td>\n",
       "      <td>3</td>\n",
       "      <td>5</td>\n",
       "      <td>33</td>\n",
       "      <td>need_attention</td>\n",
       "    </tr>\n",
       "    <tr>\n",
       "      <th>12536.00000</th>\n",
       "      <td>44</td>\n",
       "      <td>3</td>\n",
       "      <td>12601.83000</td>\n",
       "      <td>3</td>\n",
       "      <td>3</td>\n",
       "      <td>5</td>\n",
       "      <td>33</td>\n",
       "      <td>need_attention</td>\n",
       "    </tr>\n",
       "  </tbody>\n",
       "</table>\n",
       "</div>"
      ],
      "text/plain": [
       "             recency  frequency    monetary recency_score frequency_score  \\\n",
       "Customer ID                                                                 \n",
       "12360.00000       53          3  2662.06000             3               3   \n",
       "12372.00000       72          3  1298.04000             3               3   \n",
       "12413.00000       67          3   758.10000             3               3   \n",
       "12456.00000       45          3  3181.04000             3               3   \n",
       "12536.00000       44          3 12601.83000             3               3   \n",
       "\n",
       "            monetary_score RFM_SCORE         segment  \n",
       "Customer ID                                           \n",
       "12360.00000              5        33  need_attention  \n",
       "12372.00000              4        33  need_attention  \n",
       "12413.00000              3        33  need_attention  \n",
       "12456.00000              5        33  need_attention  \n",
       "12536.00000              5        33  need_attention  "
      ]
     },
     "execution_count": 38,
     "metadata": {},
     "output_type": "execute_result"
    }
   ],
   "source": [
    "rfm[rfm[\"segment\"] == \"need_attention\"].head()"
   ]
  },
  {
   "cell_type": "code",
   "execution_count": 39,
   "id": "4f99a9f8",
   "metadata": {
    "execution": {
     "iopub.execute_input": "2021-10-13T22:09:29.375807Z",
     "iopub.status.busy": "2021-10-13T22:09:29.375227Z",
     "iopub.status.idle": "2021-10-13T22:09:29.381307Z",
     "shell.execute_reply": "2021-10-13T22:09:29.381781Z",
     "shell.execute_reply.started": "2021-09-11T22:37:10.352484Z"
    },
    "papermill": {
     "duration": 0.0602,
     "end_time": "2021-10-13T22:09:29.381937",
     "exception": false,
     "start_time": "2021-10-13T22:09:29.321737",
     "status": "completed"
    },
    "tags": []
   },
   "outputs": [
    {
     "data": {
      "text/plain": [
       "Index([12367.0, 12442.0, 12478.0, 12479.0, 12558.0, 12587.0, 12650.0, 12660.0,\n",
       "       12713.0, 12953.0, 12966.0, 13017.0, 13153.0, 13188.0, 13298.0, 13349.0,\n",
       "       13428.0, 13436.0, 13560.0, 13790.0, 13844.0, 14087.0, 14093.0, 14204.0,\n",
       "       14219.0, 14349.0, 14480.0, 14569.0, 14578.0, 14601.0, 14804.0, 14954.0,\n",
       "       15097.0, 15148.0, 15195.0, 15318.0, 15471.0, 15520.0, 15539.0, 15540.0,\n",
       "       15619.0, 15721.0],\n",
       "      dtype='float64', name='Customer ID')"
      ]
     },
     "execution_count": 39,
     "metadata": {},
     "output_type": "execute_result"
    }
   ],
   "source": [
    "rfm[rfm[\"segment\"] == \"new_customers\"].index"
   ]
  },
  {
   "cell_type": "code",
   "execution_count": 40,
   "id": "32593721",
   "metadata": {
    "execution": {
     "iopub.execute_input": "2021-10-13T22:09:29.486802Z",
     "iopub.status.busy": "2021-10-13T22:09:29.486159Z",
     "iopub.status.idle": "2021-10-13T22:09:29.497290Z",
     "shell.execute_reply": "2021-10-13T22:09:29.496711Z",
     "shell.execute_reply.started": "2021-09-11T22:37:10.373159Z"
    },
    "papermill": {
     "duration": 0.064787,
     "end_time": "2021-10-13T22:09:29.497444",
     "exception": false,
     "start_time": "2021-10-13T22:09:29.432657",
     "status": "completed"
    },
    "tags": []
   },
   "outputs": [],
   "source": [
    "new_df = pd.DataFrame()\n",
    "new_df[\"new_customer_id\"] = rfm[rfm[\"segment\"] == \"new_customers\"].index\n",
    "\n",
    "new_df.to_csv(\"new_customers.csv\")"
   ]
  },
  {
   "cell_type": "markdown",
   "id": "19469fef",
   "metadata": {
    "papermill": {
     "duration": 0.050211,
     "end_time": "2021-10-13T22:09:29.598516",
     "exception": false,
     "start_time": "2021-10-13T22:09:29.548305",
     "status": "completed"
    },
    "tags": []
   },
   "source": [
    "# Recency Score"
   ]
  },
  {
   "cell_type": "code",
   "execution_count": 41,
   "id": "13b7cde1",
   "metadata": {
    "execution": {
     "iopub.execute_input": "2021-10-13T22:09:29.706358Z",
     "iopub.status.busy": "2021-10-13T22:09:29.705672Z",
     "iopub.status.idle": "2021-10-13T22:09:29.711482Z",
     "shell.execute_reply": "2021-10-13T22:09:29.710969Z",
     "shell.execute_reply.started": "2021-09-11T22:37:10.393433Z"
    },
    "papermill": {
     "duration": 0.060863,
     "end_time": "2021-10-13T22:09:29.711630",
     "exception": false,
     "start_time": "2021-10-13T22:09:29.650767",
     "status": "completed"
    },
    "tags": []
   },
   "outputs": [
    {
     "data": {
      "text/plain": [
       "Timestamp('2010-12-01 08:26:00')"
      ]
     },
     "execution_count": 41,
     "metadata": {},
     "output_type": "execute_result"
    }
   ],
   "source": [
    "df[\"InvoiceDate\"].min() "
   ]
  },
  {
   "cell_type": "markdown",
   "id": "e7c29c87",
   "metadata": {
    "papermill": {
     "duration": 0.051283,
     "end_time": "2021-10-13T22:09:29.813954",
     "exception": false,
     "start_time": "2021-10-13T22:09:29.762671",
     "status": "completed"
    },
    "tags": []
   },
   "source": [
    "# Functionalization of the Process"
   ]
  },
  {
   "cell_type": "code",
   "execution_count": 42,
   "id": "fbebbd05",
   "metadata": {
    "execution": {
     "iopub.execute_input": "2021-10-13T22:09:29.920189Z",
     "iopub.status.busy": "2021-10-13T22:09:29.919537Z",
     "iopub.status.idle": "2021-10-13T22:09:32.273218Z",
     "shell.execute_reply": "2021-10-13T22:09:32.273694Z",
     "shell.execute_reply.started": "2021-09-11T22:37:10.409414Z"
    },
    "papermill": {
     "duration": 2.408665,
     "end_time": "2021-10-13T22:09:32.273856",
     "exception": false,
     "start_time": "2021-10-13T22:09:29.865191",
     "status": "completed"
    },
    "tags": []
   },
   "outputs": [
    {
     "data": {
      "text/html": [
       "<div>\n",
       "<style scoped>\n",
       "    .dataframe tbody tr th:only-of-type {\n",
       "        vertical-align: middle;\n",
       "    }\n",
       "\n",
       "    .dataframe tbody tr th {\n",
       "        vertical-align: top;\n",
       "    }\n",
       "\n",
       "    .dataframe thead th {\n",
       "        text-align: right;\n",
       "    }\n",
       "</style>\n",
       "<table border=\"1\" class=\"dataframe\">\n",
       "  <thead>\n",
       "    <tr style=\"text-align: right;\">\n",
       "      <th></th>\n",
       "      <th>recency</th>\n",
       "      <th>frequency</th>\n",
       "      <th>monetary</th>\n",
       "      <th>segment</th>\n",
       "    </tr>\n",
       "    <tr>\n",
       "      <th>Customer ID</th>\n",
       "      <th></th>\n",
       "      <th></th>\n",
       "      <th></th>\n",
       "      <th></th>\n",
       "    </tr>\n",
       "  </thead>\n",
       "  <tbody>\n",
       "    <tr>\n",
       "      <th>12346.00000</th>\n",
       "      <td>326</td>\n",
       "      <td>1</td>\n",
       "      <td>77183.60000</td>\n",
       "      <td>hibernating</td>\n",
       "    </tr>\n",
       "    <tr>\n",
       "      <th>12347.00000</th>\n",
       "      <td>3</td>\n",
       "      <td>7</td>\n",
       "      <td>4310.00000</td>\n",
       "      <td>champions</td>\n",
       "    </tr>\n",
       "    <tr>\n",
       "      <th>12348.00000</th>\n",
       "      <td>76</td>\n",
       "      <td>4</td>\n",
       "      <td>1797.24000</td>\n",
       "      <td>at_risk</td>\n",
       "    </tr>\n",
       "    <tr>\n",
       "      <th>12349.00000</th>\n",
       "      <td>19</td>\n",
       "      <td>1</td>\n",
       "      <td>1757.55000</td>\n",
       "      <td>promising</td>\n",
       "    </tr>\n",
       "    <tr>\n",
       "      <th>12350.00000</th>\n",
       "      <td>311</td>\n",
       "      <td>1</td>\n",
       "      <td>334.40000</td>\n",
       "      <td>hibernating</td>\n",
       "    </tr>\n",
       "  </tbody>\n",
       "</table>\n",
       "</div>"
      ],
      "text/plain": [
       "             recency  frequency    monetary      segment\n",
       "Customer ID                                             \n",
       "12346.00000      326          1 77183.60000  hibernating\n",
       "12347.00000        3          7  4310.00000    champions\n",
       "12348.00000       76          4  1797.24000      at_risk\n",
       "12349.00000       19          1  1757.55000    promising\n",
       "12350.00000      311          1   334.40000  hibernating"
      ]
     },
     "execution_count": 42,
     "metadata": {},
     "output_type": "execute_result"
    }
   ],
   "source": [
    "def create_rfm(dataframe):\n",
    "\n",
    "    # PREPARING THE DATA\n",
    "    dataframe.dropna(inplace=True)\n",
    "    dataframe = dataframe[~dataframe[\"Invoice\"].str.contains(\"C\", na=False)]\n",
    "    dataframe = dataframe[(dataframe['Quantity'] > 0)]\n",
    "    dataframe = dataframe[(dataframe['Price'] > 0)]\n",
    "    dataframe[\"TotalPrice\"] = dataframe[\"Quantity\"] * dataframe[\"Price\"]\n",
    "\n",
    "    # CALCULATION OF RFM METRICS\n",
    "    today_date = dt.datetime(2011, 12, 11)\n",
    "    rfm = dataframe.groupby('Customer ID').agg({'InvoiceDate': lambda date: (today_date - date.max()).days,\n",
    "                                                'Invoice': lambda num: num.nunique(),\n",
    "                                                \"TotalPrice\": lambda price: price.sum()})\n",
    "    rfm.columns = ['recency', 'frequency', \"monetary\"]\n",
    "    rfm = rfm[(rfm['monetary'] > 0)]\n",
    "\n",
    "    # CALCULATION OF RFM SCORES\n",
    "    rfm[\"recency_score\"] = pd.qcut(rfm['recency'], 5, labels=[5, 4, 3, 2, 1])\n",
    "    rfm[\"frequency_score\"] = pd.qcut(rfm[\"frequency\"].rank(method=\"first\"), 5, labels=[1, 2, 3, 4, 5])\n",
    "    rfm[\"monetary_score\"] = pd.qcut(rfm['monetary'], 5, labels=[1, 2, 3, 4, 5])\n",
    "\n",
    "\n",
    "    rfm[\"RFM_SCORE\"] = (rfm['recency_score'].astype(str) +\n",
    "                        rfm['frequency_score'].astype(str))\n",
    "\n",
    "\n",
    "    # NAMING OF SEGMENTS\n",
    "    seg_map = {\n",
    "        r'[1-2][1-2]': 'hibernating',\n",
    "        r'[1-2][3-4]': 'at_risk',\n",
    "        r'[1-2]5': 'cant_loose',\n",
    "        r'3[1-2]': 'about_to_sleep',\n",
    "        r'33': 'need_attention',\n",
    "        r'[3-4][4-5]': 'loyal_customers',\n",
    "        r'41': 'promising',\n",
    "        r'51': 'new_customers',\n",
    "        r'[4-5][2-3]': 'potential_loyalists',\n",
    "        r'5[4-5]': 'champions'\n",
    "    }\n",
    "\n",
    "    rfm['segment'] = rfm['RFM_SCORE'].replace(seg_map, regex=True)\n",
    "    rfm = rfm[[\"recency\", \"frequency\", \"monetary\", \"segment\"]]\n",
    "    return rfm\n",
    "\n",
    "df = df_.copy()\n",
    "rfm_new = create_rfm(df)\n",
    "rfm_new.head()"
   ]
  },
  {
   "cell_type": "code",
   "execution_count": 43,
   "id": "9863be06",
   "metadata": {
    "execution": {
     "iopub.execute_input": "2021-10-13T22:09:32.381948Z",
     "iopub.status.busy": "2021-10-13T22:09:32.381349Z",
     "iopub.status.idle": "2021-10-13T22:09:34.678308Z",
     "shell.execute_reply": "2021-10-13T22:09:34.678818Z",
     "shell.execute_reply.started": "2021-09-11T22:37:12.777967Z"
    },
    "papermill": {
     "duration": 2.352995,
     "end_time": "2021-10-13T22:09:34.678987",
     "exception": false,
     "start_time": "2021-10-13T22:09:32.325992",
     "status": "completed"
    },
    "tags": []
   },
   "outputs": [],
   "source": [
    "rfm_final=create_rfm(df_)"
   ]
  },
  {
   "cell_type": "code",
   "execution_count": 44,
   "id": "b435ecf4",
   "metadata": {
    "execution": {
     "iopub.execute_input": "2021-10-13T22:09:34.814200Z",
     "iopub.status.busy": "2021-10-13T22:09:34.813142Z",
     "iopub.status.idle": "2021-10-13T22:09:34.817686Z",
     "shell.execute_reply": "2021-10-13T22:09:34.818173Z",
     "shell.execute_reply.started": "2021-09-11T22:37:15.105115Z"
    },
    "papermill": {
     "duration": 0.082314,
     "end_time": "2021-10-13T22:09:34.818364",
     "exception": false,
     "start_time": "2021-10-13T22:09:34.736050",
     "status": "completed"
    },
    "tags": []
   },
   "outputs": [
    {
     "data": {
      "text/html": [
       "<div>\n",
       "<style scoped>\n",
       "    .dataframe tbody tr th:only-of-type {\n",
       "        vertical-align: middle;\n",
       "    }\n",
       "\n",
       "    .dataframe tbody tr th {\n",
       "        vertical-align: top;\n",
       "    }\n",
       "\n",
       "    .dataframe thead th {\n",
       "        text-align: right;\n",
       "    }\n",
       "</style>\n",
       "<table border=\"1\" class=\"dataframe\">\n",
       "  <thead>\n",
       "    <tr style=\"text-align: right;\">\n",
       "      <th></th>\n",
       "      <th>recency</th>\n",
       "      <th>frequency</th>\n",
       "      <th>monetary</th>\n",
       "      <th>segment</th>\n",
       "    </tr>\n",
       "    <tr>\n",
       "      <th>Customer ID</th>\n",
       "      <th></th>\n",
       "      <th></th>\n",
       "      <th></th>\n",
       "      <th></th>\n",
       "    </tr>\n",
       "  </thead>\n",
       "  <tbody>\n",
       "    <tr>\n",
       "      <th>12346.00000</th>\n",
       "      <td>326</td>\n",
       "      <td>1</td>\n",
       "      <td>77183.60000</td>\n",
       "      <td>hibernating</td>\n",
       "    </tr>\n",
       "    <tr>\n",
       "      <th>12347.00000</th>\n",
       "      <td>3</td>\n",
       "      <td>7</td>\n",
       "      <td>4310.00000</td>\n",
       "      <td>champions</td>\n",
       "    </tr>\n",
       "    <tr>\n",
       "      <th>12348.00000</th>\n",
       "      <td>76</td>\n",
       "      <td>4</td>\n",
       "      <td>1797.24000</td>\n",
       "      <td>at_risk</td>\n",
       "    </tr>\n",
       "    <tr>\n",
       "      <th>12349.00000</th>\n",
       "      <td>19</td>\n",
       "      <td>1</td>\n",
       "      <td>1757.55000</td>\n",
       "      <td>promising</td>\n",
       "    </tr>\n",
       "    <tr>\n",
       "      <th>12350.00000</th>\n",
       "      <td>311</td>\n",
       "      <td>1</td>\n",
       "      <td>334.40000</td>\n",
       "      <td>hibernating</td>\n",
       "    </tr>\n",
       "  </tbody>\n",
       "</table>\n",
       "</div>"
      ],
      "text/plain": [
       "             recency  frequency    monetary      segment\n",
       "Customer ID                                             \n",
       "12346.00000      326          1 77183.60000  hibernating\n",
       "12347.00000        3          7  4310.00000    champions\n",
       "12348.00000       76          4  1797.24000      at_risk\n",
       "12349.00000       19          1  1757.55000    promising\n",
       "12350.00000      311          1   334.40000  hibernating"
      ]
     },
     "execution_count": 44,
     "metadata": {},
     "output_type": "execute_result"
    }
   ],
   "source": [
    "rfm_final.head()"
   ]
  },
  {
   "cell_type": "code",
   "execution_count": null,
   "id": "a28e923c",
   "metadata": {},
   "outputs": [],
   "source": []
  }
 ],
 "metadata": {
  "kernelspec": {
   "display_name": "Python 3",
   "language": "python",
   "name": "python3"
  },
  "language_info": {
   "codemirror_mode": {
    "name": "ipython",
    "version": 3
   },
   "file_extension": ".py",
   "mimetype": "text/x-python",
   "name": "python",
   "nbconvert_exporter": "python",
   "pygments_lexer": "ipython3",
   "version": "3.12.6"
  },
  "papermill": {
   "default_parameters": {},
   "duration": 119.767565,
   "end_time": "2021-10-13T22:09:35.481682",
   "environment_variables": {},
   "exception": null,
   "input_path": "__notebook__.ipynb",
   "output_path": "__notebook__.ipynb",
   "parameters": {},
   "start_time": "2021-10-13T22:07:35.714117",
   "version": "2.3.3"
  }
 },
 "nbformat": 4,
 "nbformat_minor": 5
}
